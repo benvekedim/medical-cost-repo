{
  "metadata": {
    "kernelspec": {
      "language": "python",
      "display_name": "Python 3",
      "name": "python3"
    },
    "language_info": {
      "name": "python",
      "version": "3.10.12",
      "mimetype": "text/x-python",
      "codemirror_mode": {
        "name": "ipython",
        "version": 3
      },
      "pygments_lexer": "ipython3",
      "nbconvert_exporter": "python",
      "file_extension": ".py"
    },
    "colab": {
      "provenance": []
    }
  },
  "nbformat_minor": 0,
  "nbformat": 4,
  "cells": [
    {
      "cell_type": "code",
      "source": [
        "import numpy as np\n",
        "import pandas as pd\n",
        "import seaborn as sns\n",
        "import matplotlib.pyplot as plt"
      ],
      "metadata": {
        "_uuid": "8f2839f25d086af736a60e9eeb907d3b93b6e0e5",
        "_cell_guid": "b1076dfc-b9ad-4769-8c92-a6c4dae69d19",
        "execution": {
          "iopub.status.busy": "2023-08-26T17:44:57.016833Z",
          "iopub.execute_input": "2023-08-26T17:44:57.017712Z",
          "iopub.status.idle": "2023-08-26T17:44:57.023513Z",
          "shell.execute_reply.started": "2023-08-26T17:44:57.017672Z",
          "shell.execute_reply": "2023-08-26T17:44:57.022296Z"
        },
        "trusted": true,
        "id": "KstU3PIslVqY"
      },
      "execution_count": 6,
      "outputs": []
    },
    {
      "cell_type": "code",
      "source": [
        "path =\"/content/insurance.csv\"\n",
        "insurance = pd.read_csv(path)\n",
        "df = insurance.copy()\n",
        "df"
      ],
      "metadata": {
        "execution": {
          "iopub.status.busy": "2023-08-26T18:02:16.327549Z",
          "iopub.execute_input": "2023-08-26T18:02:16.327967Z",
          "iopub.status.idle": "2023-08-26T18:02:16.378184Z",
          "shell.execute_reply.started": "2023-08-26T18:02:16.327935Z",
          "shell.execute_reply": "2023-08-26T18:02:16.376640Z"
        },
        "trusted": true,
        "colab": {
          "base_uri": "https://localhost:8080/",
          "height": 424
        },
        "id": "zmEta78DlVqZ",
        "outputId": "854313ad-a051-4166-dca0-6b985a194a89"
      },
      "execution_count": 7,
      "outputs": [
        {
          "output_type": "execute_result",
          "data": {
            "text/plain": [
              "      age     sex     bmi  children smoker     region      charges\n",
              "0      19  female  27.900         0    yes  southwest  16884.92400\n",
              "1      18    male  33.770         1     no  southeast   1725.55230\n",
              "2      28    male  33.000         3     no  southeast   4449.46200\n",
              "3      33    male  22.705         0     no  northwest  21984.47061\n",
              "4      32    male  28.880         0     no  northwest   3866.85520\n",
              "...   ...     ...     ...       ...    ...        ...          ...\n",
              "1333   50    male  30.970         3     no  northwest  10600.54830\n",
              "1334   18  female  31.920         0     no  northeast   2205.98080\n",
              "1335   18  female  36.850         0     no  southeast   1629.83350\n",
              "1336   21  female  25.800         0     no  southwest   2007.94500\n",
              "1337   61  female  29.070         0    yes  northwest  29141.36030\n",
              "\n",
              "[1338 rows x 7 columns]"
            ],
            "text/html": [
              "\n",
              "  <div id=\"df-496b6c27-9f56-4c70-a31e-88217bc5e060\" class=\"colab-df-container\">\n",
              "    <div>\n",
              "<style scoped>\n",
              "    .dataframe tbody tr th:only-of-type {\n",
              "        vertical-align: middle;\n",
              "    }\n",
              "\n",
              "    .dataframe tbody tr th {\n",
              "        vertical-align: top;\n",
              "    }\n",
              "\n",
              "    .dataframe thead th {\n",
              "        text-align: right;\n",
              "    }\n",
              "</style>\n",
              "<table border=\"1\" class=\"dataframe\">\n",
              "  <thead>\n",
              "    <tr style=\"text-align: right;\">\n",
              "      <th></th>\n",
              "      <th>age</th>\n",
              "      <th>sex</th>\n",
              "      <th>bmi</th>\n",
              "      <th>children</th>\n",
              "      <th>smoker</th>\n",
              "      <th>region</th>\n",
              "      <th>charges</th>\n",
              "    </tr>\n",
              "  </thead>\n",
              "  <tbody>\n",
              "    <tr>\n",
              "      <th>0</th>\n",
              "      <td>19</td>\n",
              "      <td>female</td>\n",
              "      <td>27.900</td>\n",
              "      <td>0</td>\n",
              "      <td>yes</td>\n",
              "      <td>southwest</td>\n",
              "      <td>16884.92400</td>\n",
              "    </tr>\n",
              "    <tr>\n",
              "      <th>1</th>\n",
              "      <td>18</td>\n",
              "      <td>male</td>\n",
              "      <td>33.770</td>\n",
              "      <td>1</td>\n",
              "      <td>no</td>\n",
              "      <td>southeast</td>\n",
              "      <td>1725.55230</td>\n",
              "    </tr>\n",
              "    <tr>\n",
              "      <th>2</th>\n",
              "      <td>28</td>\n",
              "      <td>male</td>\n",
              "      <td>33.000</td>\n",
              "      <td>3</td>\n",
              "      <td>no</td>\n",
              "      <td>southeast</td>\n",
              "      <td>4449.46200</td>\n",
              "    </tr>\n",
              "    <tr>\n",
              "      <th>3</th>\n",
              "      <td>33</td>\n",
              "      <td>male</td>\n",
              "      <td>22.705</td>\n",
              "      <td>0</td>\n",
              "      <td>no</td>\n",
              "      <td>northwest</td>\n",
              "      <td>21984.47061</td>\n",
              "    </tr>\n",
              "    <tr>\n",
              "      <th>4</th>\n",
              "      <td>32</td>\n",
              "      <td>male</td>\n",
              "      <td>28.880</td>\n",
              "      <td>0</td>\n",
              "      <td>no</td>\n",
              "      <td>northwest</td>\n",
              "      <td>3866.85520</td>\n",
              "    </tr>\n",
              "    <tr>\n",
              "      <th>...</th>\n",
              "      <td>...</td>\n",
              "      <td>...</td>\n",
              "      <td>...</td>\n",
              "      <td>...</td>\n",
              "      <td>...</td>\n",
              "      <td>...</td>\n",
              "      <td>...</td>\n",
              "    </tr>\n",
              "    <tr>\n",
              "      <th>1333</th>\n",
              "      <td>50</td>\n",
              "      <td>male</td>\n",
              "      <td>30.970</td>\n",
              "      <td>3</td>\n",
              "      <td>no</td>\n",
              "      <td>northwest</td>\n",
              "      <td>10600.54830</td>\n",
              "    </tr>\n",
              "    <tr>\n",
              "      <th>1334</th>\n",
              "      <td>18</td>\n",
              "      <td>female</td>\n",
              "      <td>31.920</td>\n",
              "      <td>0</td>\n",
              "      <td>no</td>\n",
              "      <td>northeast</td>\n",
              "      <td>2205.98080</td>\n",
              "    </tr>\n",
              "    <tr>\n",
              "      <th>1335</th>\n",
              "      <td>18</td>\n",
              "      <td>female</td>\n",
              "      <td>36.850</td>\n",
              "      <td>0</td>\n",
              "      <td>no</td>\n",
              "      <td>southeast</td>\n",
              "      <td>1629.83350</td>\n",
              "    </tr>\n",
              "    <tr>\n",
              "      <th>1336</th>\n",
              "      <td>21</td>\n",
              "      <td>female</td>\n",
              "      <td>25.800</td>\n",
              "      <td>0</td>\n",
              "      <td>no</td>\n",
              "      <td>southwest</td>\n",
              "      <td>2007.94500</td>\n",
              "    </tr>\n",
              "    <tr>\n",
              "      <th>1337</th>\n",
              "      <td>61</td>\n",
              "      <td>female</td>\n",
              "      <td>29.070</td>\n",
              "      <td>0</td>\n",
              "      <td>yes</td>\n",
              "      <td>northwest</td>\n",
              "      <td>29141.36030</td>\n",
              "    </tr>\n",
              "  </tbody>\n",
              "</table>\n",
              "<p>1338 rows × 7 columns</p>\n",
              "</div>\n",
              "    <div class=\"colab-df-buttons\">\n",
              "\n",
              "  <div class=\"colab-df-container\">\n",
              "    <button class=\"colab-df-convert\" onclick=\"convertToInteractive('df-496b6c27-9f56-4c70-a31e-88217bc5e060')\"\n",
              "            title=\"Convert this dataframe to an interactive table.\"\n",
              "            style=\"display:none;\">\n",
              "\n",
              "  <svg xmlns=\"http://www.w3.org/2000/svg\" height=\"24px\" viewBox=\"0 -960 960 960\">\n",
              "    <path d=\"M120-120v-720h720v720H120Zm60-500h600v-160H180v160Zm220 220h160v-160H400v160Zm0 220h160v-160H400v160ZM180-400h160v-160H180v160Zm440 0h160v-160H620v160ZM180-180h160v-160H180v160Zm440 0h160v-160H620v160Z\"/>\n",
              "  </svg>\n",
              "    </button>\n",
              "\n",
              "  <style>\n",
              "    .colab-df-container {\n",
              "      display:flex;\n",
              "      gap: 12px;\n",
              "    }\n",
              "\n",
              "    .colab-df-convert {\n",
              "      background-color: #E8F0FE;\n",
              "      border: none;\n",
              "      border-radius: 50%;\n",
              "      cursor: pointer;\n",
              "      display: none;\n",
              "      fill: #1967D2;\n",
              "      height: 32px;\n",
              "      padding: 0 0 0 0;\n",
              "      width: 32px;\n",
              "    }\n",
              "\n",
              "    .colab-df-convert:hover {\n",
              "      background-color: #E2EBFA;\n",
              "      box-shadow: 0px 1px 2px rgba(60, 64, 67, 0.3), 0px 1px 3px 1px rgba(60, 64, 67, 0.15);\n",
              "      fill: #174EA6;\n",
              "    }\n",
              "\n",
              "    .colab-df-buttons div {\n",
              "      margin-bottom: 4px;\n",
              "    }\n",
              "\n",
              "    [theme=dark] .colab-df-convert {\n",
              "      background-color: #3B4455;\n",
              "      fill: #D2E3FC;\n",
              "    }\n",
              "\n",
              "    [theme=dark] .colab-df-convert:hover {\n",
              "      background-color: #434B5C;\n",
              "      box-shadow: 0px 1px 3px 1px rgba(0, 0, 0, 0.15);\n",
              "      filter: drop-shadow(0px 1px 2px rgba(0, 0, 0, 0.3));\n",
              "      fill: #FFFFFF;\n",
              "    }\n",
              "  </style>\n",
              "\n",
              "    <script>\n",
              "      const buttonEl =\n",
              "        document.querySelector('#df-496b6c27-9f56-4c70-a31e-88217bc5e060 button.colab-df-convert');\n",
              "      buttonEl.style.display =\n",
              "        google.colab.kernel.accessAllowed ? 'block' : 'none';\n",
              "\n",
              "      async function convertToInteractive(key) {\n",
              "        const element = document.querySelector('#df-496b6c27-9f56-4c70-a31e-88217bc5e060');\n",
              "        const dataTable =\n",
              "          await google.colab.kernel.invokeFunction('convertToInteractive',\n",
              "                                                    [key], {});\n",
              "        if (!dataTable) return;\n",
              "\n",
              "        const docLinkHtml = 'Like what you see? Visit the ' +\n",
              "          '<a target=\"_blank\" href=https://colab.research.google.com/notebooks/data_table.ipynb>data table notebook</a>'\n",
              "          + ' to learn more about interactive tables.';\n",
              "        element.innerHTML = '';\n",
              "        dataTable['output_type'] = 'display_data';\n",
              "        await google.colab.output.renderOutput(dataTable, element);\n",
              "        const docLink = document.createElement('div');\n",
              "        docLink.innerHTML = docLinkHtml;\n",
              "        element.appendChild(docLink);\n",
              "      }\n",
              "    </script>\n",
              "  </div>\n",
              "\n",
              "\n",
              "<div id=\"df-1d6ab6ba-a328-4f89-92d9-2de518d0ad81\">\n",
              "  <button class=\"colab-df-quickchart\" onclick=\"quickchart('df-1d6ab6ba-a328-4f89-92d9-2de518d0ad81')\"\n",
              "            title=\"Suggest charts.\"\n",
              "            style=\"display:none;\">\n",
              "\n",
              "<svg xmlns=\"http://www.w3.org/2000/svg\" height=\"24px\"viewBox=\"0 0 24 24\"\n",
              "     width=\"24px\">\n",
              "    <g>\n",
              "        <path d=\"M19 3H5c-1.1 0-2 .9-2 2v14c0 1.1.9 2 2 2h14c1.1 0 2-.9 2-2V5c0-1.1-.9-2-2-2zM9 17H7v-7h2v7zm4 0h-2V7h2v10zm4 0h-2v-4h2v4z\"/>\n",
              "    </g>\n",
              "</svg>\n",
              "  </button>\n",
              "\n",
              "<style>\n",
              "  .colab-df-quickchart {\n",
              "    background-color: #E8F0FE;\n",
              "    border: none;\n",
              "    border-radius: 50%;\n",
              "    cursor: pointer;\n",
              "    display: none;\n",
              "    fill: #1967D2;\n",
              "    height: 32px;\n",
              "    padding: 0 0 0 0;\n",
              "    width: 32px;\n",
              "  }\n",
              "\n",
              "  .colab-df-quickchart:hover {\n",
              "    background-color: #E2EBFA;\n",
              "    box-shadow: 0px 1px 2px rgba(60, 64, 67, 0.3), 0px 1px 3px 1px rgba(60, 64, 67, 0.15);\n",
              "    fill: #174EA6;\n",
              "  }\n",
              "\n",
              "  [theme=dark] .colab-df-quickchart {\n",
              "    background-color: #3B4455;\n",
              "    fill: #D2E3FC;\n",
              "  }\n",
              "\n",
              "  [theme=dark] .colab-df-quickchart:hover {\n",
              "    background-color: #434B5C;\n",
              "    box-shadow: 0px 1px 3px 1px rgba(0, 0, 0, 0.15);\n",
              "    filter: drop-shadow(0px 1px 2px rgba(0, 0, 0, 0.3));\n",
              "    fill: #FFFFFF;\n",
              "  }\n",
              "</style>\n",
              "\n",
              "  <script>\n",
              "    async function quickchart(key) {\n",
              "      const charts = await google.colab.kernel.invokeFunction(\n",
              "          'suggestCharts', [key], {});\n",
              "    }\n",
              "    (() => {\n",
              "      let quickchartButtonEl =\n",
              "        document.querySelector('#df-1d6ab6ba-a328-4f89-92d9-2de518d0ad81 button');\n",
              "      quickchartButtonEl.style.display =\n",
              "        google.colab.kernel.accessAllowed ? 'block' : 'none';\n",
              "    })();\n",
              "  </script>\n",
              "</div>\n",
              "    </div>\n",
              "  </div>\n"
            ]
          },
          "metadata": {},
          "execution_count": 7
        }
      ]
    },
    {
      "cell_type": "markdown",
      "source": [
        "## Exploratory Data Analysis"
      ],
      "metadata": {
        "id": "YJKDIt8_lVqZ"
      }
    },
    {
      "cell_type": "code",
      "source": [
        "# the distribution of Bmi (Body Mass Index)\n",
        "plt.hist(df['bmi'], bins=20, edgecolor='k')\n",
        "plt.xlabel('Bmi (Body Mass Index)')\n",
        "plt.ylabel('Frequency')\n",
        "plt.title('Distribution of Bmi')\n",
        "plt.show()"
      ],
      "metadata": {
        "execution": {
          "iopub.status.busy": "2023-08-26T18:02:23.039812Z",
          "iopub.execute_input": "2023-08-26T18:02:23.040253Z",
          "iopub.status.idle": "2023-08-26T18:02:23.434330Z",
          "shell.execute_reply.started": "2023-08-26T18:02:23.040217Z",
          "shell.execute_reply": "2023-08-26T18:02:23.432944Z"
        },
        "trusted": true,
        "colab": {
          "base_uri": "https://localhost:8080/",
          "height": 472
        },
        "id": "wdsDCkb1lVqa",
        "outputId": "5b645f3d-8b92-462a-a62e-8f626ffa8871"
      },
      "execution_count": 8,
      "outputs": [
        {
          "output_type": "display_data",
          "data": {
            "text/plain": [
              "<Figure size 640x480 with 1 Axes>"
            ],
            "image/png": "[encoded data removed]"
          },
          "metadata": {}
        }
      ]
    },
    {
      "cell_type": "code",
      "source": [
        "df.shape"
      ],
      "metadata": {
        "execution": {
          "iopub.status.busy": "2023-08-26T18:03:56.502381Z",
          "iopub.execute_input": "2023-08-26T18:03:56.503467Z",
          "iopub.status.idle": "2023-08-26T18:03:56.509282Z",
          "shell.execute_reply.started": "2023-08-26T18:03:56.503430Z",
          "shell.execute_reply": "2023-08-26T18:03:56.508543Z"
        },
        "trusted": true,
        "colab": {
          "base_uri": "https://localhost:8080/"
        },
        "id": "VYXkyK1VlVqa",
        "outputId": "57f0b2f6-9856-4309-a1db-0d1f48a28410"
      },
      "execution_count": 9,
      "outputs": [
        {
          "output_type": "execute_result",
          "data": {
            "text/plain": [
              "(1338, 7)"
            ]
          },
          "metadata": {},
          "execution_count": 9
        }
      ]
    },
    {
      "cell_type": "code",
      "source": [
        "df.isna().sum()"
      ],
      "metadata": {
        "execution": {
          "iopub.status.busy": "2023-08-26T18:03:21.048541Z",
          "iopub.execute_input": "2023-08-26T18:03:21.048960Z",
          "iopub.status.idle": "2023-08-26T18:03:21.059858Z",
          "shell.execute_reply.started": "2023-08-26T18:03:21.048925Z",
          "shell.execute_reply": "2023-08-26T18:03:21.058784Z"
        },
        "trusted": true,
        "colab": {
          "base_uri": "https://localhost:8080/"
        },
        "id": "GrcIoRc_lVqa",
        "outputId": "28ae6e3e-8567-4d47-e55d-932ec27432c8"
      },
      "execution_count": 10,
      "outputs": [
        {
          "output_type": "execute_result",
          "data": {
            "text/plain": [
              "age         0\n",
              "sex         0\n",
              "bmi         0\n",
              "children    0\n",
              "smoker      0\n",
              "region      0\n",
              "charges     0\n",
              "dtype: int64"
            ]
          },
          "metadata": {},
          "execution_count": 10
        }
      ]
    },
    {
      "cell_type": "code",
      "source": [
        "df.info()"
      ],
      "metadata": {
        "execution": {
          "iopub.status.busy": "2023-08-26T18:04:06.636938Z",
          "iopub.execute_input": "2023-08-26T18:04:06.637339Z",
          "iopub.status.idle": "2023-08-26T18:04:06.657674Z",
          "shell.execute_reply.started": "2023-08-26T18:04:06.637308Z",
          "shell.execute_reply": "2023-08-26T18:04:06.656769Z"
        },
        "trusted": true,
        "colab": {
          "base_uri": "https://localhost:8080/"
        },
        "id": "QmTUbXGElVqa",
        "outputId": "05787c11-e0f6-450f-f6d9-06dcb5aa46e7"
      },
      "execution_count": 11,
      "outputs": [
        {
          "output_type": "stream",
          "name": "stdout",
          "text": [
            "<class 'pandas.core.frame.DataFrame'>\n",
            "RangeIndex: 1338 entries, 0 to 1337\n",
            "Data columns (total 7 columns):\n",
            " #   Column    Non-Null Count  Dtype  \n",
            "---  ------    --------------  -----  \n",
            " 0   age       1338 non-null   int64  \n",
            " 1   sex       1338 non-null   object \n",
            " 2   bmi       1338 non-null   float64\n",
            " 3   children  1338 non-null   int64  \n",
            " 4   smoker    1338 non-null   object \n",
            " 5   region    1338 non-null   object \n",
            " 6   charges   1338 non-null   float64\n",
            "dtypes: float64(2), int64(2), object(3)\n",
            "memory usage: 73.3+ KB\n"
          ]
        }
      ]
    },
    {
      "cell_type": "code",
      "source": [
        "# the relationship between “smoker” and “charges”\n",
        "sns.catplot(data=df, x=\"smoker\", y=\"charges\")"
      ],
      "metadata": {
        "execution": {
          "iopub.status.busy": "2023-08-26T18:10:01.254143Z",
          "iopub.execute_input": "2023-08-26T18:10:01.254550Z",
          "iopub.status.idle": "2023-08-26T18:10:01.690688Z",
          "shell.execute_reply.started": "2023-08-26T18:10:01.254504Z",
          "shell.execute_reply": "2023-08-26T18:10:01.689564Z"
        },
        "trusted": true,
        "colab": {
          "base_uri": "https://localhost:8080/",
          "height": 523
        },
        "id": "aVYAMoNglVqa",
        "outputId": "a307ca2d-5cc7-4a80-dc0c-96fd046bf5fa"
      },
      "execution_count": 12,
      "outputs": [
        {
          "output_type": "execute_result",
          "data": {
            "text/plain": [
              "<seaborn.axisgrid.FacetGrid at 0x7c136f3547c0>"
            ]
          },
          "metadata": {},
          "execution_count": 12
        },
        {
          "output_type": "display_data",
          "data": {
            "text/plain": [
              "<Figure size 500x500 with 1 Axes>"
            ],
            "image/png": "[encoded data removed]"
          },
          "metadata": {}
        }
      ]
    },
    {
      "cell_type": "code",
      "source": [
        "# the relationship between “smoker” and “region”\n",
        "sns.catplot(data=df, x=\"smoker\", y=\"region\")"
      ],
      "metadata": {
        "execution": {
          "iopub.status.busy": "2023-08-26T18:10:52.589391Z",
          "iopub.execute_input": "2023-08-26T18:10:52.590296Z",
          "iopub.status.idle": "2023-08-26T18:10:52.955955Z",
          "shell.execute_reply.started": "2023-08-26T18:10:52.590260Z",
          "shell.execute_reply": "2023-08-26T18:10:52.954696Z"
        },
        "trusted": true,
        "colab": {
          "base_uri": "https://localhost:8080/",
          "height": 524
        },
        "id": "lNxzpzoclVqa",
        "outputId": "9d681676-55dd-41eb-bb3d-8c4812172329"
      },
      "execution_count": 13,
      "outputs": [
        {
          "output_type": "execute_result",
          "data": {
            "text/plain": [
              "<seaborn.axisgrid.FacetGrid at 0x7c136d048e80>"
            ]
          },
          "metadata": {},
          "execution_count": 13
        },
        {
          "output_type": "display_data",
          "data": {
            "text/plain": [
              "<Figure size 500x500 with 1 Axes>"
            ],
            "image/png": "[encoded data removed]"
          },
          "metadata": {}
        }
      ]
    },
    {
      "cell_type": "code",
      "source": [
        "# the relationship between “bmi” and “sex”\n",
        "sns.catplot(data=df, x=\"sex\", y=\"bmi\")"
      ],
      "metadata": {
        "execution": {
          "iopub.status.busy": "2023-08-26T18:11:37.675079Z",
          "iopub.execute_input": "2023-08-26T18:11:37.675465Z",
          "iopub.status.idle": "2023-08-26T18:11:38.110158Z",
          "shell.execute_reply.started": "2023-08-26T18:11:37.675434Z",
          "shell.execute_reply": "2023-08-26T18:11:38.108820Z"
        },
        "trusted": true,
        "colab": {
          "base_uri": "https://localhost:8080/",
          "height": 524
        },
        "id": "f1MEpqWTlVqb",
        "outputId": "1bde8e8c-40ad-418a-fe52-25df8e37be4f"
      },
      "execution_count": 14,
      "outputs": [
        {
          "output_type": "execute_result",
          "data": {
            "text/plain": [
              "<seaborn.axisgrid.FacetGrid at 0x7c136d1dfaf0>"
            ]
          },
          "metadata": {},
          "execution_count": 14
        },
        {
          "output_type": "display_data",
          "data": {
            "text/plain": [
              "<Figure size 500x500 with 1 Axes>"
            ],
            "image/png": "[encoded data removed]"
          },
          "metadata": {}
        }
      ]
    },
    {
      "cell_type": "code",
      "source": [
        "#  Group by the \"children\" column and sum the number of children for each \"region\"\n",
        "grouped = df.groupby('region')['children'].sum()\n",
        "# We can use the idxmax() function to find the \"region\" with the most children\n",
        "region_with_most_children = grouped.idxmax()\n",
        "# We can print the \"region\" with the most children\n",
        "print(\"Region with the most children:\", region_with_most_children)"
      ],
      "metadata": {
        "execution": {
          "iopub.status.busy": "2023-08-26T18:23:23.722904Z",
          "iopub.execute_input": "2023-08-26T18:23:23.723337Z",
          "iopub.status.idle": "2023-08-26T18:23:23.732226Z",
          "shell.execute_reply.started": "2023-08-26T18:23:23.723305Z",
          "shell.execute_reply": "2023-08-26T18:23:23.730927Z"
        },
        "trusted": true,
        "colab": {
          "base_uri": "https://localhost:8080/"
        },
        "id": "MeLv4VwBlVqb",
        "outputId": "a3df524e-a3c1-4550-afb3-d40a96e38ba3"
      },
      "execution_count": 15,
      "outputs": [
        {
          "output_type": "stream",
          "name": "stdout",
          "text": [
            "Region with the most children: southeast\n"
          ]
        }
      ]
    },
    {
      "cell_type": "code",
      "source": [
        "# the relationship between “age” and “bmi”\n",
        "plt.scatter(df['age'],df['bmi'])"
      ],
      "metadata": {
        "execution": {
          "iopub.status.busy": "2023-08-26T18:27:13.100175Z",
          "iopub.execute_input": "2023-08-26T18:27:13.100610Z",
          "iopub.status.idle": "2023-08-26T18:27:13.414933Z",
          "shell.execute_reply.started": "2023-08-26T18:27:13.100574Z",
          "shell.execute_reply": "2023-08-26T18:27:13.413580Z"
        },
        "trusted": true,
        "colab": {
          "base_uri": "https://localhost:8080/",
          "height": 447
        },
        "id": "c7srCod7lVqb",
        "outputId": "29532f90-4eea-416f-f2be-485ce0340371"
      },
      "execution_count": 16,
      "outputs": [
        {
          "output_type": "execute_result",
          "data": {
            "text/plain": [
              "<matplotlib.collections.PathCollection at 0x7c136cf84700>"
            ]
          },
          "metadata": {},
          "execution_count": 16
        },
        {
          "output_type": "display_data",
          "data": {
            "text/plain": [
              "<Figure size 640x480 with 1 Axes>"
            ],
            "image/png": "[encoded data removed]"
          },
          "metadata": {}
        }
      ]
    },
    {
      "cell_type": "code",
      "source": [
        "#  the relationship between “bmi” and “children”\n",
        "sns.catplot(data=df, x=\"children\", y=\"bmi\")"
      ],
      "metadata": {
        "execution": {
          "iopub.status.busy": "2023-08-26T18:29:03.069882Z",
          "iopub.execute_input": "2023-08-26T18:29:03.070785Z",
          "iopub.status.idle": "2023-08-26T18:29:03.605364Z",
          "shell.execute_reply.started": "2023-08-26T18:29:03.070745Z",
          "shell.execute_reply": "2023-08-26T18:29:03.604581Z"
        },
        "trusted": true,
        "colab": {
          "base_uri": "https://localhost:8080/",
          "height": 524
        },
        "id": "d4FCXqeRlVqb",
        "outputId": "41fdb6a9-31b9-4b63-e367-6c41a2bb58dc"
      },
      "execution_count": 17,
      "outputs": [
        {
          "output_type": "execute_result",
          "data": {
            "text/plain": [
              "<seaborn.axisgrid.FacetGrid at 0x7c136cfa7e20>"
            ]
          },
          "metadata": {},
          "execution_count": 17
        },
        {
          "output_type": "display_data",
          "data": {
            "text/plain": [
              "<Figure size 500x500 with 1 Axes>"
            ],
            "image/png": "[encoded data removed]"
          },
          "metadata": {}
        }
      ]
    },
    {
      "cell_type": "code",
      "source": [
        "# Let's get the basic statistical information of the \"bmi\" column:\n",
        "statistics = df['bmi'].describe()\n",
        "statistics"
      ],
      "metadata": {
        "execution": {
          "iopub.status.busy": "2023-08-26T18:30:34.888642Z",
          "iopub.execute_input": "2023-08-26T18:30:34.889052Z",
          "iopub.status.idle": "2023-08-26T18:30:34.903665Z",
          "shell.execute_reply.started": "2023-08-26T18:30:34.889020Z",
          "shell.execute_reply": "2023-08-26T18:30:34.902734Z"
        },
        "trusted": true,
        "colab": {
          "base_uri": "https://localhost:8080/"
        },
        "id": "9ZivZf8VlVqb",
        "outputId": "f9b446f0-84cc-446f-deb8-e2876a7f3608"
      },
      "execution_count": 18,
      "outputs": [
        {
          "output_type": "execute_result",
          "data": {
            "text/plain": [
              "count    1338.000000\n",
              "mean       30.663397\n",
              "std         6.098187\n",
              "min        15.960000\n",
              "25%        26.296250\n",
              "50%        30.400000\n",
              "75%        34.693750\n",
              "max        53.130000\n",
              "Name: bmi, dtype: float64"
            ]
          },
          "metadata": {},
          "execution_count": 18
        }
      ]
    },
    {
      "cell_type": "code",
      "source": [
        "'''\n",
        "A common method for identifying outliers is to consider as outliers those that are outside the interquartile\n",
        "range (IQR) by 1.5 times the values in the \"bmi\" column.\n",
        "The IQR is the difference between the 25th and 75th percentiles, respectively.\n",
        "'''\n",
        "Q1 = statistics['25%']\n",
        "Q3 = statistics['75%']\n",
        "IQR = Q3 - Q1\n",
        "\n",
        "lower_bound = Q1 - 1.5 * IQR\n",
        "upper_bound = Q3 + 1.5 * IQR\n",
        "print(\"lower bound: \",lower_bound)\n",
        "print(\"upper bound: \",upper_bound)"
      ],
      "metadata": {
        "execution": {
          "iopub.status.busy": "2023-08-26T18:33:18.189565Z",
          "iopub.execute_input": "2023-08-26T18:33:18.189950Z",
          "iopub.status.idle": "2023-08-26T18:33:18.198368Z",
          "shell.execute_reply.started": "2023-08-26T18:33:18.189921Z",
          "shell.execute_reply": "2023-08-26T18:33:18.197024Z"
        },
        "trusted": true,
        "colab": {
          "base_uri": "https://localhost:8080/"
        },
        "id": "55qfmP0rlVqb",
        "outputId": "fe526fe3-92b1-4e43-cb65-004ba1b3f1e2"
      },
      "execution_count": 19,
      "outputs": [
        {
          "output_type": "stream",
          "name": "stdout",
          "text": [
            "lower bound:  13.7\n",
            "upper bound:  47.290000000000006\n"
          ]
        }
      ]
    },
    {
      "cell_type": "code",
      "source": [
        "# we can find the values that are outside the lower and upper limits\n",
        "outliers = df[(df['bmi'] < lower_bound) | (df['bmi'] > upper_bound)]\n",
        "# We can print outliers\n",
        "print(\"Outliers: \")\n",
        "print(outliers)"
      ],
      "metadata": {
        "execution": {
          "iopub.status.busy": "2023-08-26T18:34:49.100508Z",
          "iopub.execute_input": "2023-08-26T18:34:49.100976Z",
          "iopub.status.idle": "2023-08-26T18:34:49.114274Z",
          "shell.execute_reply.started": "2023-08-26T18:34:49.100943Z",
          "shell.execute_reply": "2023-08-26T18:34:49.112677Z"
        },
        "trusted": true,
        "colab": {
          "base_uri": "https://localhost:8080/"
        },
        "id": "5XgRw8h0lVqb",
        "outputId": "d06a9569-c973-4b93-a92e-a11045b79bbe"
      },
      "execution_count": 20,
      "outputs": [
        {
          "output_type": "stream",
          "name": "stdout",
          "text": [
            "Outliers: \n",
            "      age     sex    bmi  children smoker     region      charges\n",
            "116    58    male  49.06         0     no  southeast  11381.32540\n",
            "286    46  female  48.07         2     no  northeast   9432.92530\n",
            "401    47    male  47.52         1     no  southeast   8083.91980\n",
            "543    54  female  47.41         0    yes  southeast  63770.42801\n",
            "847    23    male  50.38         1     no  southeast   2438.05520\n",
            "860    37  female  47.60         2    yes  southwest  46113.51100\n",
            "1047   22    male  52.58         1    yes  southeast  44501.39820\n",
            "1088   52    male  47.74         1     no  southeast   9748.91060\n",
            "1317   18    male  53.13         0     no  southeast   1163.46270\n"
          ]
        }
      ]
    },
    {
      "cell_type": "code",
      "source": [
        "# Visualize outliers\n",
        "sns.boxplot(x=\"bmi\",data = df)"
      ],
      "metadata": {
        "execution": {
          "iopub.status.busy": "2023-08-26T18:46:27.638669Z",
          "iopub.execute_input": "2023-08-26T18:46:27.639076Z",
          "iopub.status.idle": "2023-08-26T18:46:27.877557Z",
          "shell.execute_reply.started": "2023-08-26T18:46:27.639042Z",
          "shell.execute_reply": "2023-08-26T18:46:27.876202Z"
        },
        "trusted": true,
        "colab": {
          "base_uri": "https://localhost:8080/",
          "height": 466
        },
        "id": "6CbtRfEalVqc",
        "outputId": "88b76123-ccf0-4339-c2ff-26183e5e25a8"
      },
      "execution_count": 21,
      "outputs": [
        {
          "output_type": "execute_result",
          "data": {
            "text/plain": [
              "<Axes: xlabel='bmi'>"
            ]
          },
          "metadata": {},
          "execution_count": 21
        },
        {
          "output_type": "display_data",
          "data": {
            "text/plain": [
              "<Figure size 640x480 with 1 Axes>"
            ],
            "image/png": "[encoded data removed]"
          },
          "metadata": {}
        }
      ]
    },
    {
      "cell_type": "code",
      "source": [
        "plt.scatter(df['bmi'],df['charges'])"
      ],
      "metadata": {
        "execution": {
          "iopub.status.busy": "2023-08-26T18:36:32.269453Z",
          "iopub.execute_input": "2023-08-26T18:36:32.269916Z",
          "iopub.status.idle": "2023-08-26T18:36:32.612918Z",
          "shell.execute_reply.started": "2023-08-26T18:36:32.269879Z",
          "shell.execute_reply": "2023-08-26T18:36:32.611728Z"
        },
        "trusted": true,
        "colab": {
          "base_uri": "https://localhost:8080/",
          "height": 447
        },
        "id": "DICDLyMklVqc",
        "outputId": "5720857a-695f-4ad3-f840-122a134ddc9d"
      },
      "execution_count": 22,
      "outputs": [
        {
          "output_type": "execute_result",
          "data": {
            "text/plain": [
              "<matplotlib.collections.PathCollection at 0x7c136cf0db10>"
            ]
          },
          "metadata": {},
          "execution_count": 22
        },
        {
          "output_type": "display_data",
          "data": {
            "text/plain": [
              "<Figure size 640x480 with 1 Axes>"
            ],
            "image/png": "[encoded data removed]"
          },
          "metadata": {}
        }
      ]
    },
    {
      "cell_type": "code",
      "source": [
        "'''\n",
        "Grouping the columns \"region\", \"smoker\" and \"bmi\",\n",
        "let's calculate the mean or other statistics of \"bmi\" values according to the combinations of \"region\" and \"smoker\"\n",
        "'''\n",
        "grouped = df.groupby(['region', 'smoker'])['bmi'].mean()\n",
        "# Let's draw the bar graph\n",
        "grouped.plot(kind='bar')\n",
        "plt.xlabel('Region-Smoker')\n",
        "plt.ylabel('BMI')\n",
        "plt.title('BMI by Region and Smoker')\n",
        "plt.show()"
      ],
      "metadata": {
        "execution": {
          "iopub.status.busy": "2023-08-26T18:39:07.149972Z",
          "iopub.execute_input": "2023-08-26T18:39:07.150359Z",
          "iopub.status.idle": "2023-08-26T18:39:07.494963Z",
          "shell.execute_reply.started": "2023-08-26T18:39:07.150330Z",
          "shell.execute_reply": "2023-08-26T18:39:07.493867Z"
        },
        "trusted": true,
        "colab": {
          "base_uri": "https://localhost:8080/",
          "height": 572
        },
        "id": "nfHg9qNclVqc",
        "outputId": "295a18b9-43c1-4c3c-e92f-4b472fee60a8"
      },
      "execution_count": 23,
      "outputs": [
        {
          "output_type": "display_data",
          "data": {
            "text/plain": [
              "<Figure size 640x480 with 1 Axes>"
            ],
            "image/png": "[encoded data removed]"
          },
          "metadata": {}
        }
      ]
    },
    {
      "cell_type": "markdown",
      "source": [
        "## Data Preprocessing"
      ],
      "metadata": {
        "id": "l8oINPnnlVqc"
      }
    },
    {
      "cell_type": "code",
      "source": [
        "df.head()"
      ],
      "metadata": {
        "execution": {
          "iopub.status.busy": "2023-08-26T19:13:45.342585Z",
          "iopub.execute_input": "2023-08-26T19:13:45.342976Z",
          "iopub.status.idle": "2023-08-26T19:13:45.357944Z",
          "shell.execute_reply.started": "2023-08-26T19:13:45.342946Z",
          "shell.execute_reply": "2023-08-26T19:13:45.356808Z"
        },
        "trusted": true,
        "colab": {
          "base_uri": "https://localhost:8080/",
          "height": 206
        },
        "id": "Gwte-mP-lVqc",
        "outputId": "468c8970-04fa-48f6-eb67-7a8fbee135cd"
      },
      "execution_count": 24,
      "outputs": [
        {
          "output_type": "execute_result",
          "data": {
            "text/plain": [
              "   age     sex     bmi  children smoker     region      charges\n",
              "0   19  female  27.900         0    yes  southwest  16884.92400\n",
              "1   18    male  33.770         1     no  southeast   1725.55230\n",
              "2   28    male  33.000         3     no  southeast   4449.46200\n",
              "3   33    male  22.705         0     no  northwest  21984.47061\n",
              "4   32    male  28.880         0     no  northwest   3866.85520"
            ],
            "text/html": [
              "\n",
              "  <div id=\"df-2469e5aa-5c92-4f8c-88f0-62de4cfd39c2\" class=\"colab-df-container\">\n",
              "    <div>\n",
              "<style scoped>\n",
              "    .dataframe tbody tr th:only-of-type {\n",
              "        vertical-align: middle;\n",
              "    }\n",
              "\n",
              "    .dataframe tbody tr th {\n",
              "        vertical-align: top;\n",
              "    }\n",
              "\n",
              "    .dataframe thead th {\n",
              "        text-align: right;\n",
              "    }\n",
              "</style>\n",
              "<table border=\"1\" class=\"dataframe\">\n",
              "  <thead>\n",
              "    <tr style=\"text-align: right;\">\n",
              "      <th></th>\n",
              "      <th>age</th>\n",
              "      <th>sex</th>\n",
              "      <th>bmi</th>\n",
              "      <th>children</th>\n",
              "      <th>smoker</th>\n",
              "      <th>region</th>\n",
              "      <th>charges</th>\n",
              "    </tr>\n",
              "  </thead>\n",
              "  <tbody>\n",
              "    <tr>\n",
              "      <th>0</th>\n",
              "      <td>19</td>\n",
              "      <td>female</td>\n",
              "      <td>27.900</td>\n",
              "      <td>0</td>\n",
              "      <td>yes</td>\n",
              "      <td>southwest</td>\n",
              "      <td>16884.92400</td>\n",
              "    </tr>\n",
              "    <tr>\n",
              "      <th>1</th>\n",
              "      <td>18</td>\n",
              "      <td>male</td>\n",
              "      <td>33.770</td>\n",
              "      <td>1</td>\n",
              "      <td>no</td>\n",
              "      <td>southeast</td>\n",
              "      <td>1725.55230</td>\n",
              "    </tr>\n",
              "    <tr>\n",
              "      <th>2</th>\n",
              "      <td>28</td>\n",
              "      <td>male</td>\n",
              "      <td>33.000</td>\n",
              "      <td>3</td>\n",
              "      <td>no</td>\n",
              "      <td>southeast</td>\n",
              "      <td>4449.46200</td>\n",
              "    </tr>\n",
              "    <tr>\n",
              "      <th>3</th>\n",
              "      <td>33</td>\n",
              "      <td>male</td>\n",
              "      <td>22.705</td>\n",
              "      <td>0</td>\n",
              "      <td>no</td>\n",
              "      <td>northwest</td>\n",
              "      <td>21984.47061</td>\n",
              "    </tr>\n",
              "    <tr>\n",
              "      <th>4</th>\n",
              "      <td>32</td>\n",
              "      <td>male</td>\n",
              "      <td>28.880</td>\n",
              "      <td>0</td>\n",
              "      <td>no</td>\n",
              "      <td>northwest</td>\n",
              "      <td>3866.85520</td>\n",
              "    </tr>\n",
              "  </tbody>\n",
              "</table>\n",
              "</div>\n",
              "    <div class=\"colab-df-buttons\">\n",
              "\n",
              "  <div class=\"colab-df-container\">\n",
              "    <button class=\"colab-df-convert\" onclick=\"convertToInteractive('df-2469e5aa-5c92-4f8c-88f0-62de4cfd39c2')\"\n",
              "            title=\"Convert this dataframe to an interactive table.\"\n",
              "            style=\"display:none;\">\n",
              "\n",
              "  <svg xmlns=\"http://www.w3.org/2000/svg\" height=\"24px\" viewBox=\"0 -960 960 960\">\n",
              "    <path d=\"M120-120v-720h720v720H120Zm60-500h600v-160H180v160Zm220 220h160v-160H400v160Zm0 220h160v-160H400v160ZM180-400h160v-160H180v160Zm440 0h160v-160H620v160ZM180-180h160v-160H180v160Zm440 0h160v-160H620v160Z\"/>\n",
              "  </svg>\n",
              "    </button>\n",
              "\n",
              "  <style>\n",
              "    .colab-df-container {\n",
              "      display:flex;\n",
              "      gap: 12px;\n",
              "    }\n",
              "\n",
              "    .colab-df-convert {\n",
              "      background-color: #E8F0FE;\n",
              "      border: none;\n",
              "      border-radius: 50%;\n",
              "      cursor: pointer;\n",
              "      display: none;\n",
              "      fill: #1967D2;\n",
              "      height: 32px;\n",
              "      padding: 0 0 0 0;\n",
              "      width: 32px;\n",
              "    }\n",
              "\n",
              "    .colab-df-convert:hover {\n",
              "      background-color: #E2EBFA;\n",
              "      box-shadow: 0px 1px 2px rgba(60, 64, 67, 0.3), 0px 1px 3px 1px rgba(60, 64, 67, 0.15);\n",
              "      fill: #174EA6;\n",
              "    }\n",
              "\n",
              "    .colab-df-buttons div {\n",
              "      margin-bottom: 4px;\n",
              "    }\n",
              "\n",
              "    [theme=dark] .colab-df-convert {\n",
              "      background-color: #3B4455;\n",
              "      fill: #D2E3FC;\n",
              "    }\n",
              "\n",
              "    [theme=dark] .colab-df-convert:hover {\n",
              "      background-color: #434B5C;\n",
              "      box-shadow: 0px 1px 3px 1px rgba(0, 0, 0, 0.15);\n",
              "      filter: drop-shadow(0px 1px 2px rgba(0, 0, 0, 0.3));\n",
              "      fill: #FFFFFF;\n",
              "    }\n",
              "  </style>\n",
              "\n",
              "    <script>\n",
              "      const buttonEl =\n",
              "        document.querySelector('#df-2469e5aa-5c92-4f8c-88f0-62de4cfd39c2 button.colab-df-convert');\n",
              "      buttonEl.style.display =\n",
              "        google.colab.kernel.accessAllowed ? 'block' : 'none';\n",
              "\n",
              "      async function convertToInteractive(key) {\n",
              "        const element = document.querySelector('#df-2469e5aa-5c92-4f8c-88f0-62de4cfd39c2');\n",
              "        const dataTable =\n",
              "          await google.colab.kernel.invokeFunction('convertToInteractive',\n",
              "                                                    [key], {});\n",
              "        if (!dataTable) return;\n",
              "\n",
              "        const docLinkHtml = 'Like what you see? Visit the ' +\n",
              "          '<a target=\"_blank\" href=https://colab.research.google.com/notebooks/data_table.ipynb>data table notebook</a>'\n",
              "          + ' to learn more about interactive tables.';\n",
              "        element.innerHTML = '';\n",
              "        dataTable['output_type'] = 'display_data';\n",
              "        await google.colab.output.renderOutput(dataTable, element);\n",
              "        const docLink = document.createElement('div');\n",
              "        docLink.innerHTML = docLinkHtml;\n",
              "        element.appendChild(docLink);\n",
              "      }\n",
              "    </script>\n",
              "  </div>\n",
              "\n",
              "\n",
              "<div id=\"df-d23b3bf8-c448-4b37-8514-c8ab1263c37b\">\n",
              "  <button class=\"colab-df-quickchart\" onclick=\"quickchart('df-d23b3bf8-c448-4b37-8514-c8ab1263c37b')\"\n",
              "            title=\"Suggest charts.\"\n",
              "            style=\"display:none;\">\n",
              "\n",
              "<svg xmlns=\"http://www.w3.org/2000/svg\" height=\"24px\"viewBox=\"0 0 24 24\"\n",
              "     width=\"24px\">\n",
              "    <g>\n",
              "        <path d=\"M19 3H5c-1.1 0-2 .9-2 2v14c0 1.1.9 2 2 2h14c1.1 0 2-.9 2-2V5c0-1.1-.9-2-2-2zM9 17H7v-7h2v7zm4 0h-2V7h2v10zm4 0h-2v-4h2v4z\"/>\n",
              "    </g>\n",
              "</svg>\n",
              "  </button>\n",
              "\n",
              "<style>\n",
              "  .colab-df-quickchart {\n",
              "    background-color: #E8F0FE;\n",
              "    border: none;\n",
              "    border-radius: 50%;\n",
              "    cursor: pointer;\n",
              "    display: none;\n",
              "    fill: #1967D2;\n",
              "    height: 32px;\n",
              "    padding: 0 0 0 0;\n",
              "    width: 32px;\n",
              "  }\n",
              "\n",
              "  .colab-df-quickchart:hover {\n",
              "    background-color: #E2EBFA;\n",
              "    box-shadow: 0px 1px 2px rgba(60, 64, 67, 0.3), 0px 1px 3px 1px rgba(60, 64, 67, 0.15);\n",
              "    fill: #174EA6;\n",
              "  }\n",
              "\n",
              "  [theme=dark] .colab-df-quickchart {\n",
              "    background-color: #3B4455;\n",
              "    fill: #D2E3FC;\n",
              "  }\n",
              "\n",
              "  [theme=dark] .colab-df-quickchart:hover {\n",
              "    background-color: #434B5C;\n",
              "    box-shadow: 0px 1px 3px 1px rgba(0, 0, 0, 0.15);\n",
              "    filter: drop-shadow(0px 1px 2px rgba(0, 0, 0, 0.3));\n",
              "    fill: #FFFFFF;\n",
              "  }\n",
              "</style>\n",
              "\n",
              "  <script>\n",
              "    async function quickchart(key) {\n",
              "      const charts = await google.colab.kernel.invokeFunction(\n",
              "          'suggestCharts', [key], {});\n",
              "    }\n",
              "    (() => {\n",
              "      let quickchartButtonEl =\n",
              "        document.querySelector('#df-d23b3bf8-c448-4b37-8514-c8ab1263c37b button');\n",
              "      quickchartButtonEl.style.display =\n",
              "        google.colab.kernel.accessAllowed ? 'block' : 'none';\n",
              "    })();\n",
              "  </script>\n",
              "</div>\n",
              "    </div>\n",
              "  </div>\n"
            ]
          },
          "metadata": {},
          "execution_count": 24
        }
      ]
    },
    {
      "cell_type": "code",
      "source": [
        "df.info()"
      ],
      "metadata": {
        "execution": {
          "iopub.status.busy": "2023-08-26T19:16:02.419054Z",
          "iopub.execute_input": "2023-08-26T19:16:02.419677Z",
          "iopub.status.idle": "2023-08-26T19:16:02.434176Z",
          "shell.execute_reply.started": "2023-08-26T19:16:02.419645Z",
          "shell.execute_reply": "2023-08-26T19:16:02.432854Z"
        },
        "trusted": true,
        "colab": {
          "base_uri": "https://localhost:8080/"
        },
        "id": "m48OOV1NlVqc",
        "outputId": "7a1fa81f-c32e-473a-e344-e6d318b3669d"
      },
      "execution_count": 25,
      "outputs": [
        {
          "output_type": "stream",
          "name": "stdout",
          "text": [
            "<class 'pandas.core.frame.DataFrame'>\n",
            "RangeIndex: 1338 entries, 0 to 1337\n",
            "Data columns (total 7 columns):\n",
            " #   Column    Non-Null Count  Dtype  \n",
            "---  ------    --------------  -----  \n",
            " 0   age       1338 non-null   int64  \n",
            " 1   sex       1338 non-null   object \n",
            " 2   bmi       1338 non-null   float64\n",
            " 3   children  1338 non-null   int64  \n",
            " 4   smoker    1338 non-null   object \n",
            " 5   region    1338 non-null   object \n",
            " 6   charges   1338 non-null   float64\n",
            "dtypes: float64(2), int64(2), object(3)\n",
            "memory usage: 73.3+ KB\n"
          ]
        }
      ]
    },
    {
      "cell_type": "code",
      "source": [
        "# print categorical columns\n",
        "categorical_cols = [i for i in df.columns if df[str(i)].dtype == \"object\" ]\n",
        "print(\"Categorical columns: \",categorical_cols)"
      ],
      "metadata": {
        "execution": {
          "iopub.status.busy": "2023-08-26T19:20:37.417852Z",
          "iopub.execute_input": "2023-08-26T19:20:37.418237Z",
          "iopub.status.idle": "2023-08-26T19:20:37.424725Z",
          "shell.execute_reply.started": "2023-08-26T19:20:37.418208Z",
          "shell.execute_reply": "2023-08-26T19:20:37.423653Z"
        },
        "trusted": true,
        "colab": {
          "base_uri": "https://localhost:8080/"
        },
        "id": "H7b3cu2SlVqc",
        "outputId": "e91d0527-26ae-4d70-947e-e960142af1c4"
      },
      "execution_count": 26,
      "outputs": [
        {
          "output_type": "stream",
          "name": "stdout",
          "text": [
            "Categorical columns:  ['sex', 'smoker', 'region']\n"
          ]
        }
      ]
    },
    {
      "cell_type": "code",
      "source": [
        "# print numerical columns\n",
        "numerical_cols = [i for i in df.columns\n",
        "                  if df[str(i)].dtype in ['int64', 'float64'] and i !=\"charges\"]\n",
        "print(\"Numerical columns: \",numerical_cols)"
      ],
      "metadata": {
        "execution": {
          "iopub.status.busy": "2023-08-26T19:20:27.666887Z",
          "iopub.execute_input": "2023-08-26T19:20:27.667301Z",
          "iopub.status.idle": "2023-08-26T19:20:27.673876Z",
          "shell.execute_reply.started": "2023-08-26T19:20:27.667268Z",
          "shell.execute_reply": "2023-08-26T19:20:27.672541Z"
        },
        "trusted": true,
        "colab": {
          "base_uri": "https://localhost:8080/"
        },
        "id": "yS7VRo2flVqc",
        "outputId": "5267225b-2edc-44f6-f2ad-083b754b9cde"
      },
      "execution_count": 27,
      "outputs": [
        {
          "output_type": "stream",
          "name": "stdout",
          "text": [
            "Numerical columns:  ['age', 'bmi', 'children']\n"
          ]
        }
      ]
    },
    {
      "cell_type": "code",
      "source": [
        "print(\"Columns: \",df.columns)"
      ],
      "metadata": {
        "execution": {
          "iopub.status.busy": "2023-08-26T18:59:32.582150Z",
          "iopub.execute_input": "2023-08-26T18:59:32.582659Z",
          "iopub.status.idle": "2023-08-26T18:59:32.588836Z",
          "shell.execute_reply.started": "2023-08-26T18:59:32.582615Z",
          "shell.execute_reply": "2023-08-26T18:59:32.587473Z"
        },
        "trusted": true,
        "colab": {
          "base_uri": "https://localhost:8080/"
        },
        "id": "m-Dd6PCIlVqc",
        "outputId": "af6af4f0-c365-4b1b-8324-3a3c327e2d10"
      },
      "execution_count": 28,
      "outputs": [
        {
          "output_type": "stream",
          "name": "stdout",
          "text": [
            "Columns:  Index(['age', 'sex', 'bmi', 'children', 'smoker', 'region', 'charges'], dtype='object')\n"
          ]
        }
      ]
    },
    {
      "cell_type": "code",
      "source": [
        "data_features = list(df.columns)\n",
        "X_features = [i for i in data_features if i !=\"charges\"]\n",
        "y = df.charges\n",
        "print(\"Charges:\")\n",
        "print(y)\n"
      ],
      "metadata": {
        "execution": {
          "iopub.status.busy": "2023-08-26T19:04:26.165979Z",
          "iopub.execute_input": "2023-08-26T19:04:26.166373Z",
          "iopub.status.idle": "2023-08-26T19:04:26.175833Z",
          "shell.execute_reply.started": "2023-08-26T19:04:26.166343Z",
          "shell.execute_reply": "2023-08-26T19:04:26.174668Z"
        },
        "trusted": true,
        "colab": {
          "base_uri": "https://localhost:8080/"
        },
        "id": "ZDr7LVMOlVqc",
        "outputId": "b0348865-8670-4535-a320-9e6ea64ec323"
      },
      "execution_count": 29,
      "outputs": [
        {
          "output_type": "stream",
          "name": "stdout",
          "text": [
            "Charges:\n",
            "0       16884.92400\n",
            "1        1725.55230\n",
            "2        4449.46200\n",
            "3       21984.47061\n",
            "4        3866.85520\n",
            "           ...     \n",
            "1333    10600.54830\n",
            "1334     2205.98080\n",
            "1335     1629.83350\n",
            "1336     2007.94500\n",
            "1337    29141.36030\n",
            "Name: charges, Length: 1338, dtype: float64\n"
          ]
        }
      ]
    },
    {
      "cell_type": "code",
      "source": [
        "X = df[X_features]\n",
        "X.head()"
      ],
      "metadata": {
        "execution": {
          "iopub.status.busy": "2023-08-26T19:05:45.876076Z",
          "iopub.execute_input": "2023-08-26T19:05:45.877244Z",
          "iopub.status.idle": "2023-08-26T19:05:45.899238Z",
          "shell.execute_reply.started": "2023-08-26T19:05:45.877162Z",
          "shell.execute_reply": "2023-08-26T19:05:45.898219Z"
        },
        "trusted": true,
        "colab": {
          "base_uri": "https://localhost:8080/",
          "height": 206
        },
        "id": "cqvlc1ozlVqd",
        "outputId": "270a5b95-e047-4db2-9d77-5afe6af229df"
      },
      "execution_count": 30,
      "outputs": [
        {
          "output_type": "execute_result",
          "data": {
            "text/plain": [
              "   age     sex     bmi  children smoker     region\n",
              "0   19  female  27.900         0    yes  southwest\n",
              "1   18    male  33.770         1     no  southeast\n",
              "2   28    male  33.000         3     no  southeast\n",
              "3   33    male  22.705         0     no  northwest\n",
              "4   32    male  28.880         0     no  northwest"
            ],
            "text/html": [
              "\n",
              "  <div id=\"df-0b77e84a-9769-470c-9076-b9ed7038fc53\" class=\"colab-df-container\">\n",
              "    <div>\n",
              "<style scoped>\n",
              "    .dataframe tbody tr th:only-of-type {\n",
              "        vertical-align: middle;\n",
              "    }\n",
              "\n",
              "    .dataframe tbody tr th {\n",
              "        vertical-align: top;\n",
              "    }\n",
              "\n",
              "    .dataframe thead th {\n",
              "        text-align: right;\n",
              "    }\n",
              "</style>\n",
              "<table border=\"1\" class=\"dataframe\">\n",
              "  <thead>\n",
              "    <tr style=\"text-align: right;\">\n",
              "      <th></th>\n",
              "      <th>age</th>\n",
              "      <th>sex</th>\n",
              "      <th>bmi</th>\n",
              "      <th>children</th>\n",
              "      <th>smoker</th>\n",
              "      <th>region</th>\n",
              "    </tr>\n",
              "  </thead>\n",
              "  <tbody>\n",
              "    <tr>\n",
              "      <th>0</th>\n",
              "      <td>19</td>\n",
              "      <td>female</td>\n",
              "      <td>27.900</td>\n",
              "      <td>0</td>\n",
              "      <td>yes</td>\n",
              "      <td>southwest</td>\n",
              "    </tr>\n",
              "    <tr>\n",
              "      <th>1</th>\n",
              "      <td>18</td>\n",
              "      <td>male</td>\n",
              "      <td>33.770</td>\n",
              "      <td>1</td>\n",
              "      <td>no</td>\n",
              "      <td>southeast</td>\n",
              "    </tr>\n",
              "    <tr>\n",
              "      <th>2</th>\n",
              "      <td>28</td>\n",
              "      <td>male</td>\n",
              "      <td>33.000</td>\n",
              "      <td>3</td>\n",
              "      <td>no</td>\n",
              "      <td>southeast</td>\n",
              "    </tr>\n",
              "    <tr>\n",
              "      <th>3</th>\n",
              "      <td>33</td>\n",
              "      <td>male</td>\n",
              "      <td>22.705</td>\n",
              "      <td>0</td>\n",
              "      <td>no</td>\n",
              "      <td>northwest</td>\n",
              "    </tr>\n",
              "    <tr>\n",
              "      <th>4</th>\n",
              "      <td>32</td>\n",
              "      <td>male</td>\n",
              "      <td>28.880</td>\n",
              "      <td>0</td>\n",
              "      <td>no</td>\n",
              "      <td>northwest</td>\n",
              "    </tr>\n",
              "  </tbody>\n",
              "</table>\n",
              "</div>\n",
              "    <div class=\"colab-df-buttons\">\n",
              "\n",
              "  <div class=\"colab-df-container\">\n",
              "    <button class=\"colab-df-convert\" onclick=\"convertToInteractive('df-0b77e84a-9769-470c-9076-b9ed7038fc53')\"\n",
              "            title=\"Convert this dataframe to an interactive table.\"\n",
              "            style=\"display:none;\">\n",
              "\n",
              "  <svg xmlns=\"http://www.w3.org/2000/svg\" height=\"24px\" viewBox=\"0 -960 960 960\">\n",
              "    <path d=\"M120-120v-720h720v720H120Zm60-500h600v-160H180v160Zm220 220h160v-160H400v160Zm0 220h160v-160H400v160ZM180-400h160v-160H180v160Zm440 0h160v-160H620v160ZM180-180h160v-160H180v160Zm440 0h160v-160H620v160Z\"/>\n",
              "  </svg>\n",
              "    </button>\n",
              "\n",
              "  <style>\n",
              "    .colab-df-container {\n",
              "      display:flex;\n",
              "      gap: 12px;\n",
              "    }\n",
              "\n",
              "    .colab-df-convert {\n",
              "      background-color: #E8F0FE;\n",
              "      border: none;\n",
              "      border-radius: 50%;\n",
              "      cursor: pointer;\n",
              "      display: none;\n",
              "      fill: #1967D2;\n",
              "      height: 32px;\n",
              "      padding: 0 0 0 0;\n",
              "      width: 32px;\n",
              "    }\n",
              "\n",
              "    .colab-df-convert:hover {\n",
              "      background-color: #E2EBFA;\n",
              "      box-shadow: 0px 1px 2px rgba(60, 64, 67, 0.3), 0px 1px 3px 1px rgba(60, 64, 67, 0.15);\n",
              "      fill: #174EA6;\n",
              "    }\n",
              "\n",
              "    .colab-df-buttons div {\n",
              "      margin-bottom: 4px;\n",
              "    }\n",
              "\n",
              "    [theme=dark] .colab-df-convert {\n",
              "      background-color: #3B4455;\n",
              "      fill: #D2E3FC;\n",
              "    }\n",
              "\n",
              "    [theme=dark] .colab-df-convert:hover {\n",
              "      background-color: #434B5C;\n",
              "      box-shadow: 0px 1px 3px 1px rgba(0, 0, 0, 0.15);\n",
              "      filter: drop-shadow(0px 1px 2px rgba(0, 0, 0, 0.3));\n",
              "      fill: #FFFFFF;\n",
              "    }\n",
              "  </style>\n",
              "\n",
              "    <script>\n",
              "      const buttonEl =\n",
              "        document.querySelector('#df-0b77e84a-9769-470c-9076-b9ed7038fc53 button.colab-df-convert');\n",
              "      buttonEl.style.display =\n",
              "        google.colab.kernel.accessAllowed ? 'block' : 'none';\n",
              "\n",
              "      async function convertToInteractive(key) {\n",
              "        const element = document.querySelector('#df-0b77e84a-9769-470c-9076-b9ed7038fc53');\n",
              "        const dataTable =\n",
              "          await google.colab.kernel.invokeFunction('convertToInteractive',\n",
              "                                                    [key], {});\n",
              "        if (!dataTable) return;\n",
              "\n",
              "        const docLinkHtml = 'Like what you see? Visit the ' +\n",
              "          '<a target=\"_blank\" href=https://colab.research.google.com/notebooks/data_table.ipynb>data table notebook</a>'\n",
              "          + ' to learn more about interactive tables.';\n",
              "        element.innerHTML = '';\n",
              "        dataTable['output_type'] = 'display_data';\n",
              "        await google.colab.output.renderOutput(dataTable, element);\n",
              "        const docLink = document.createElement('div');\n",
              "        docLink.innerHTML = docLinkHtml;\n",
              "        element.appendChild(docLink);\n",
              "      }\n",
              "    </script>\n",
              "  </div>\n",
              "\n",
              "\n",
              "<div id=\"df-c8d5dfa7-bf01-4b27-959d-bd1065e68487\">\n",
              "  <button class=\"colab-df-quickchart\" onclick=\"quickchart('df-c8d5dfa7-bf01-4b27-959d-bd1065e68487')\"\n",
              "            title=\"Suggest charts.\"\n",
              "            style=\"display:none;\">\n",
              "\n",
              "<svg xmlns=\"http://www.w3.org/2000/svg\" height=\"24px\"viewBox=\"0 0 24 24\"\n",
              "     width=\"24px\">\n",
              "    <g>\n",
              "        <path d=\"M19 3H5c-1.1 0-2 .9-2 2v14c0 1.1.9 2 2 2h14c1.1 0 2-.9 2-2V5c0-1.1-.9-2-2-2zM9 17H7v-7h2v7zm4 0h-2V7h2v10zm4 0h-2v-4h2v4z\"/>\n",
              "    </g>\n",
              "</svg>\n",
              "  </button>\n",
              "\n",
              "<style>\n",
              "  .colab-df-quickchart {\n",
              "    background-color: #E8F0FE;\n",
              "    border: none;\n",
              "    border-radius: 50%;\n",
              "    cursor: pointer;\n",
              "    display: none;\n",
              "    fill: #1967D2;\n",
              "    height: 32px;\n",
              "    padding: 0 0 0 0;\n",
              "    width: 32px;\n",
              "  }\n",
              "\n",
              "  .colab-df-quickchart:hover {\n",
              "    background-color: #E2EBFA;\n",
              "    box-shadow: 0px 1px 2px rgba(60, 64, 67, 0.3), 0px 1px 3px 1px rgba(60, 64, 67, 0.15);\n",
              "    fill: #174EA6;\n",
              "  }\n",
              "\n",
              "  [theme=dark] .colab-df-quickchart {\n",
              "    background-color: #3B4455;\n",
              "    fill: #D2E3FC;\n",
              "  }\n",
              "\n",
              "  [theme=dark] .colab-df-quickchart:hover {\n",
              "    background-color: #434B5C;\n",
              "    box-shadow: 0px 1px 3px 1px rgba(0, 0, 0, 0.15);\n",
              "    filter: drop-shadow(0px 1px 2px rgba(0, 0, 0, 0.3));\n",
              "    fill: #FFFFFF;\n",
              "  }\n",
              "</style>\n",
              "\n",
              "  <script>\n",
              "    async function quickchart(key) {\n",
              "      const charts = await google.colab.kernel.invokeFunction(\n",
              "          'suggestCharts', [key], {});\n",
              "    }\n",
              "    (() => {\n",
              "      let quickchartButtonEl =\n",
              "        document.querySelector('#df-c8d5dfa7-bf01-4b27-959d-bd1065e68487 button');\n",
              "      quickchartButtonEl.style.display =\n",
              "        google.colab.kernel.accessAllowed ? 'block' : 'none';\n",
              "    })();\n",
              "  </script>\n",
              "</div>\n",
              "    </div>\n",
              "  </div>\n"
            ]
          },
          "metadata": {},
          "execution_count": 30
        }
      ]
    },
    {
      "cell_type": "code",
      "source": [
        "# Train - test split\n",
        "from sklearn.model_selection import train_test_split\n",
        "X_train, X_test, y_train, y_test = train_test_split(X,y,test_size=0.2)\n"
      ],
      "metadata": {
        "execution": {
          "iopub.status.busy": "2023-08-26T19:06:17.472585Z",
          "iopub.execute_input": "2023-08-26T19:06:17.473007Z",
          "iopub.status.idle": "2023-08-26T19:06:17.643990Z",
          "shell.execute_reply.started": "2023-08-26T19:06:17.472973Z",
          "shell.execute_reply": "2023-08-26T19:06:17.642610Z"
        },
        "trusted": true,
        "id": "v79KGw3dlVqd"
      },
      "execution_count": 31,
      "outputs": []
    },
    {
      "cell_type": "code",
      "source": [
        "X_train.head()"
      ],
      "metadata": {
        "execution": {
          "iopub.status.busy": "2023-08-26T19:06:27.840186Z",
          "iopub.execute_input": "2023-08-26T19:06:27.841787Z",
          "iopub.status.idle": "2023-08-26T19:06:27.862213Z",
          "shell.execute_reply.started": "2023-08-26T19:06:27.841731Z",
          "shell.execute_reply": "2023-08-26T19:06:27.860961Z"
        },
        "trusted": true,
        "colab": {
          "base_uri": "https://localhost:8080/",
          "height": 206
        },
        "id": "Mu1uOD-GlVqd",
        "outputId": "04ada4d4-504f-4593-a972-833949b53fb3"
      },
      "execution_count": 32,
      "outputs": [
        {
          "output_type": "execute_result",
          "data": {
            "text/plain": [
              "      age     sex    bmi  children smoker     region\n",
              "830    63    male  33.10         0     no  southwest\n",
              "1330   57  female  25.74         2     no  southeast\n",
              "793    53    male  20.90         0    yes  southeast\n",
              "578    52    male  30.20         1     no  southwest\n",
              "52     48    male  28.00         1    yes  southwest"
            ],
            "text/html": [
              "\n",
              "  <div id=\"df-48a299f0-f7a0-4bba-ad46-92ddb1240bf2\" class=\"colab-df-container\">\n",
              "    <div>\n",
              "<style scoped>\n",
              "    .dataframe tbody tr th:only-of-type {\n",
              "        vertical-align: middle;\n",
              "    }\n",
              "\n",
              "    .dataframe tbody tr th {\n",
              "        vertical-align: top;\n",
              "    }\n",
              "\n",
              "    .dataframe thead th {\n",
              "        text-align: right;\n",
              "    }\n",
              "</style>\n",
              "<table border=\"1\" class=\"dataframe\">\n",
              "  <thead>\n",
              "    <tr style=\"text-align: right;\">\n",
              "      <th></th>\n",
              "      <th>age</th>\n",
              "      <th>sex</th>\n",
              "      <th>bmi</th>\n",
              "      <th>children</th>\n",
              "      <th>smoker</th>\n",
              "      <th>region</th>\n",
              "    </tr>\n",
              "  </thead>\n",
              "  <tbody>\n",
              "    <tr>\n",
              "      <th>830</th>\n",
              "      <td>63</td>\n",
              "      <td>male</td>\n",
              "      <td>33.10</td>\n",
              "      <td>0</td>\n",
              "      <td>no</td>\n",
              "      <td>southwest</td>\n",
              "    </tr>\n",
              "    <tr>\n",
              "      <th>1330</th>\n",
              "      <td>57</td>\n",
              "      <td>female</td>\n",
              "      <td>25.74</td>\n",
              "      <td>2</td>\n",
              "      <td>no</td>\n",
              "      <td>southeast</td>\n",
              "    </tr>\n",
              "    <tr>\n",
              "      <th>793</th>\n",
              "      <td>53</td>\n",
              "      <td>male</td>\n",
              "      <td>20.90</td>\n",
              "      <td>0</td>\n",
              "      <td>yes</td>\n",
              "      <td>southeast</td>\n",
              "    </tr>\n",
              "    <tr>\n",
              "      <th>578</th>\n",
              "      <td>52</td>\n",
              "      <td>male</td>\n",
              "      <td>30.20</td>\n",
              "      <td>1</td>\n",
              "      <td>no</td>\n",
              "      <td>southwest</td>\n",
              "    </tr>\n",
              "    <tr>\n",
              "      <th>52</th>\n",
              "      <td>48</td>\n",
              "      <td>male</td>\n",
              "      <td>28.00</td>\n",
              "      <td>1</td>\n",
              "      <td>yes</td>\n",
              "      <td>southwest</td>\n",
              "    </tr>\n",
              "  </tbody>\n",
              "</table>\n",
              "</div>\n",
              "    <div class=\"colab-df-buttons\">\n",
              "\n",
              "  <div class=\"colab-df-container\">\n",
              "    <button class=\"colab-df-convert\" onclick=\"convertToInteractive('df-48a299f0-f7a0-4bba-ad46-92ddb1240bf2')\"\n",
              "            title=\"Convert this dataframe to an interactive table.\"\n",
              "            style=\"display:none;\">\n",
              "\n",
              "  <svg xmlns=\"http://www.w3.org/2000/svg\" height=\"24px\" viewBox=\"0 -960 960 960\">\n",
              "    <path d=\"M120-120v-720h720v720H120Zm60-500h600v-160H180v160Zm220 220h160v-160H400v160Zm0 220h160v-160H400v160ZM180-400h160v-160H180v160Zm440 0h160v-160H620v160ZM180-180h160v-160H180v160Zm440 0h160v-160H620v160Z\"/>\n",
              "  </svg>\n",
              "    </button>\n",
              "\n",
              "  <style>\n",
              "    .colab-df-container {\n",
              "      display:flex;\n",
              "      gap: 12px;\n",
              "    }\n",
              "\n",
              "    .colab-df-convert {\n",
              "      background-color: #E8F0FE;\n",
              "      border: none;\n",
              "      border-radius: 50%;\n",
              "      cursor: pointer;\n",
              "      display: none;\n",
              "      fill: #1967D2;\n",
              "      height: 32px;\n",
              "      padding: 0 0 0 0;\n",
              "      width: 32px;\n",
              "    }\n",
              "\n",
              "    .colab-df-convert:hover {\n",
              "      background-color: #E2EBFA;\n",
              "      box-shadow: 0px 1px 2px rgba(60, 64, 67, 0.3), 0px 1px 3px 1px rgba(60, 64, 67, 0.15);\n",
              "      fill: #174EA6;\n",
              "    }\n",
              "\n",
              "    .colab-df-buttons div {\n",
              "      margin-bottom: 4px;\n",
              "    }\n",
              "\n",
              "    [theme=dark] .colab-df-convert {\n",
              "      background-color: #3B4455;\n",
              "      fill: #D2E3FC;\n",
              "    }\n",
              "\n",
              "    [theme=dark] .colab-df-convert:hover {\n",
              "      background-color: #434B5C;\n",
              "      box-shadow: 0px 1px 3px 1px rgba(0, 0, 0, 0.15);\n",
              "      filter: drop-shadow(0px 1px 2px rgba(0, 0, 0, 0.3));\n",
              "      fill: #FFFFFF;\n",
              "    }\n",
              "  </style>\n",
              "\n",
              "    <script>\n",
              "      const buttonEl =\n",
              "        document.querySelector('#df-48a299f0-f7a0-4bba-ad46-92ddb1240bf2 button.colab-df-convert');\n",
              "      buttonEl.style.display =\n",
              "        google.colab.kernel.accessAllowed ? 'block' : 'none';\n",
              "\n",
              "      async function convertToInteractive(key) {\n",
              "        const element = document.querySelector('#df-48a299f0-f7a0-4bba-ad46-92ddb1240bf2');\n",
              "        const dataTable =\n",
              "          await google.colab.kernel.invokeFunction('convertToInteractive',\n",
              "                                                    [key], {});\n",
              "        if (!dataTable) return;\n",
              "\n",
              "        const docLinkHtml = 'Like what you see? Visit the ' +\n",
              "          '<a target=\"_blank\" href=https://colab.research.google.com/notebooks/data_table.ipynb>data table notebook</a>'\n",
              "          + ' to learn more about interactive tables.';\n",
              "        element.innerHTML = '';\n",
              "        dataTable['output_type'] = 'display_data';\n",
              "        await google.colab.output.renderOutput(dataTable, element);\n",
              "        const docLink = document.createElement('div');\n",
              "        docLink.innerHTML = docLinkHtml;\n",
              "        element.appendChild(docLink);\n",
              "      }\n",
              "    </script>\n",
              "  </div>\n",
              "\n",
              "\n",
              "<div id=\"df-466db929-08bb-44b5-bd79-36de85d7ed23\">\n",
              "  <button class=\"colab-df-quickchart\" onclick=\"quickchart('df-466db929-08bb-44b5-bd79-36de85d7ed23')\"\n",
              "            title=\"Suggest charts.\"\n",
              "            style=\"display:none;\">\n",
              "\n",
              "<svg xmlns=\"http://www.w3.org/2000/svg\" height=\"24px\"viewBox=\"0 0 24 24\"\n",
              "     width=\"24px\">\n",
              "    <g>\n",
              "        <path d=\"M19 3H5c-1.1 0-2 .9-2 2v14c0 1.1.9 2 2 2h14c1.1 0 2-.9 2-2V5c0-1.1-.9-2-2-2zM9 17H7v-7h2v7zm4 0h-2V7h2v10zm4 0h-2v-4h2v4z\"/>\n",
              "    </g>\n",
              "</svg>\n",
              "  </button>\n",
              "\n",
              "<style>\n",
              "  .colab-df-quickchart {\n",
              "    background-color: #E8F0FE;\n",
              "    border: none;\n",
              "    border-radius: 50%;\n",
              "    cursor: pointer;\n",
              "    display: none;\n",
              "    fill: #1967D2;\n",
              "    height: 32px;\n",
              "    padding: 0 0 0 0;\n",
              "    width: 32px;\n",
              "  }\n",
              "\n",
              "  .colab-df-quickchart:hover {\n",
              "    background-color: #E2EBFA;\n",
              "    box-shadow: 0px 1px 2px rgba(60, 64, 67, 0.3), 0px 1px 3px 1px rgba(60, 64, 67, 0.15);\n",
              "    fill: #174EA6;\n",
              "  }\n",
              "\n",
              "  [theme=dark] .colab-df-quickchart {\n",
              "    background-color: #3B4455;\n",
              "    fill: #D2E3FC;\n",
              "  }\n",
              "\n",
              "  [theme=dark] .colab-df-quickchart:hover {\n",
              "    background-color: #434B5C;\n",
              "    box-shadow: 0px 1px 3px 1px rgba(0, 0, 0, 0.15);\n",
              "    filter: drop-shadow(0px 1px 2px rgba(0, 0, 0, 0.3));\n",
              "    fill: #FFFFFF;\n",
              "  }\n",
              "</style>\n",
              "\n",
              "  <script>\n",
              "    async function quickchart(key) {\n",
              "      const charts = await google.colab.kernel.invokeFunction(\n",
              "          'suggestCharts', [key], {});\n",
              "    }\n",
              "    (() => {\n",
              "      let quickchartButtonEl =\n",
              "        document.querySelector('#df-466db929-08bb-44b5-bd79-36de85d7ed23 button');\n",
              "      quickchartButtonEl.style.display =\n",
              "        google.colab.kernel.accessAllowed ? 'block' : 'none';\n",
              "    })();\n",
              "  </script>\n",
              "</div>\n",
              "    </div>\n",
              "  </div>\n"
            ]
          },
          "metadata": {},
          "execution_count": 32
        }
      ]
    },
    {
      "cell_type": "code",
      "source": [
        "\n"
      ],
      "metadata": {
        "trusted": true,
        "id": "RqWLbhG1lVqd"
      },
      "execution_count": 32,
      "outputs": []
    },
    {
      "cell_type": "code",
      "source": [
        "from sklearn.compose import ColumnTransformer\n",
        "from sklearn.pipeline import Pipeline\n",
        "from sklearn.impute import SimpleImputer\n",
        "from sklearn.preprocessing import OneHotEncoder\n",
        "# scale the data\n",
        "from sklearn.preprocessing import MinMaxScaler\n",
        "from sklearn.preprocessing import StandardScaler\n",
        "from xgboost import XGBRegressor\n",
        "\n",
        "# Preprocessing for numerical data\n",
        "numerical_transformer = Pipeline(steps=[\n",
        "    ('imputer', SimpleImputer(strategy='constant')),\n",
        "    ('scaler', MinMaxScaler())\n",
        "])\n",
        "\n",
        "# Preprocessing for categorical data\n",
        "categorical_transformer = Pipeline(steps = [\n",
        "    ('imputer',SimpleImputer(strategy='constant')),\n",
        "    ('onehot',OneHotEncoder(handle_unknown='ignore'))\n",
        "])\n",
        "\n",
        "# Bundle preprocessing for numerical and categorical data\n",
        "preprocessor = ColumnTransformer(\n",
        "    transformers=[\n",
        "        ('num', numerical_transformer, numerical_cols),\n",
        "        ('cat', categorical_transformer, categorical_cols)\n",
        "    ])\n",
        "\n",
        "# Define model\n",
        "model = XGBRegressor(max_depth = 3,\n",
        "                     n_estimators = 50,\n",
        "                     learning_rate = 0.2)\n",
        "\n",
        "# Bundle preprocessing and modeling code in a pipeline\n",
        "my_pipeline = Pipeline(steps=[('preprocessor', preprocessor),\n",
        "                              ('model', model)\n",
        "                             ])\n",
        "\n",
        "# Preprocessing of training data, fit model\n",
        "my_pipeline.fit(X_train, y_train)\n",
        "\n"
      ],
      "metadata": {
        "execution": {
          "iopub.status.busy": "2023-08-26T20:12:42.279958Z",
          "iopub.execute_input": "2023-08-26T20:12:42.280377Z",
          "iopub.status.idle": "2023-08-26T20:12:42.549740Z",
          "shell.execute_reply.started": "2023-08-26T20:12:42.280344Z",
          "shell.execute_reply": "2023-08-26T20:12:42.548549Z"
        },
        "trusted": true,
        "colab": {
          "base_uri": "https://localhost:8080/",
          "height": 227
        },
        "id": "IMJvNTwMlVqd",
        "outputId": "74023d2d-6950-4464-b2bc-7e9a0c5b3eb1"
      },
      "execution_count": 33,
      "outputs": [
        {
          "output_type": "execute_result",
          "data": {
            "text/plain": [
              "Pipeline(steps=[('preprocessor',\n",
              "                 ColumnTransformer(transformers=[('num',\n",
              "                                                  Pipeline(steps=[('imputer',\n",
              "                                                                   SimpleImputer(strategy='constant')),\n",
              "                                                                  ('scaler',\n",
              "                                                                   MinMaxScaler())]),\n",
              "                                                  ['age', 'bmi', 'children']),\n",
              "                                                 ('cat',\n",
              "                                                  Pipeline(steps=[('imputer',\n",
              "                                                                   SimpleImputer(strategy='constant')),\n",
              "                                                                  ('onehot',\n",
              "                                                                   OneHotEncoder(handle_unknown='ignore'))]),\n",
              "                                                  ['sex', 'smoker',\n",
              "                                                   'region'])])),\n",
              "                ('model',\n",
              "                 X...\n",
              "                              feature_types=None, gamma=None, gpu_id=None,\n",
              "                              grow_policy=None, importance_type=None,\n",
              "                              interaction_constraints=None, learning_rate=0.2,\n",
              "                              max_bin=None, max_cat_threshold=None,\n",
              "                              max_cat_to_onehot=None, max_delta_step=None,\n",
              "                              max_depth=3, max_leaves=None,\n",
              "                              min_child_weight=None, missing=nan,\n",
              "                              monotone_constraints=None, n_estimators=50,\n",
              "                              n_jobs=None, num_parallel_tree=None,\n",
              "                              predictor=None, random_state=None, ...))])"
            ],
            "text/html": [
              "<style>#sk-container-id-1 {color: black;background-color: white;}#sk-container-id-1 pre{padding: 0;}#sk-container-id-1 div.sk-toggleable {background-color: white;}#sk-container-id-1 label.sk-toggleable__label {cursor: pointer;display: block;width: 100%;margin-bottom: 0;padding: 0.3em;box-sizing: border-box;text-align: center;}#sk-container-id-1 label.sk-toggleable__label-arrow:before {content: \"▸\";float: left;margin-right: 0.25em;color: #696969;}#sk-container-id-1 label.sk-toggleable__label-arrow:hover:before {color: black;}#sk-container-id-1 div.sk-estimator:hover label.sk-toggleable__label-arrow:before {color: black;}#sk-container-id-1 div.sk-toggleable__content {max-height: 0;max-width: 0;overflow: hidden;text-align: left;background-color: #f0f8ff;}#sk-container-id-1 div.sk-toggleable__content pre {margin: 0.2em;color: black;border-radius: 0.25em;background-color: #f0f8ff;}#sk-container-id-1 input.sk-toggleable__control:checked~div.sk-toggleable__content {max-height: 200px;max-width: 100%;overflow: auto;}#sk-container-id-1 input.sk-toggleable__control:checked~label.sk-toggleable__label-arrow:before {content: \"▾\";}#sk-container-id-1 div.sk-estimator input.sk-toggleable__control:checked~label.sk-toggleable__label {background-color: #d4ebff;}#sk-container-id-1 div.sk-label input.sk-toggleable__control:checked~label.sk-toggleable__label {background-color: #d4ebff;}#sk-container-id-1 input.sk-hidden--visually {border: 0;clip: rect(1px 1px 1px 1px);clip: rect(1px, 1px, 1px, 1px);height: 1px;margin: -1px;overflow: hidden;padding: 0;position: absolute;width: 1px;}#sk-container-id-1 div.sk-estimator {font-family: monospace;background-color: #f0f8ff;border: 1px dotted black;border-radius: 0.25em;box-sizing: border-box;margin-bottom: 0.5em;}#sk-container-id-1 div.sk-estimator:hover {background-color: #d4ebff;}#sk-container-id-1 div.sk-parallel-item::after {content: \"\";width: 100%;border-bottom: 1px solid gray;flex-grow: 1;}#sk-container-id-1 div.sk-label:hover label.sk-toggleable__label {background-color: #d4ebff;}#sk-container-id-1 div.sk-serial::before {content: \"\";position: absolute;border-left: 1px solid gray;box-sizing: border-box;top: 0;bottom: 0;left: 50%;z-index: 0;}#sk-container-id-1 div.sk-serial {display: flex;flex-direction: column;align-items: center;background-color: white;padding-right: 0.2em;padding-left: 0.2em;position: relative;}#sk-container-id-1 div.sk-item {position: relative;z-index: 1;}#sk-container-id-1 div.sk-parallel {display: flex;align-items: stretch;justify-content: center;background-color: white;position: relative;}#sk-container-id-1 div.sk-item::before, #sk-container-id-1 div.sk-parallel-item::before {content: \"\";position: absolute;border-left: 1px solid gray;box-sizing: border-box;top: 0;bottom: 0;left: 50%;z-index: -1;}#sk-container-id-1 div.sk-parallel-item {display: flex;flex-direction: column;z-index: 1;position: relative;background-color: white;}#sk-container-id-1 div.sk-parallel-item:first-child::after {align-self: flex-end;width: 50%;}#sk-container-id-1 div.sk-parallel-item:last-child::after {align-self: flex-start;width: 50%;}#sk-container-id-1 div.sk-parallel-item:only-child::after {width: 0;}#sk-container-id-1 div.sk-dashed-wrapped {border: 1px dashed gray;margin: 0 0.4em 0.5em 0.4em;box-sizing: border-box;padding-bottom: 0.4em;background-color: white;}#sk-container-id-1 div.sk-label label {font-family: monospace;font-weight: bold;display: inline-block;line-height: 1.2em;}#sk-container-id-1 div.sk-label-container {text-align: center;}#sk-container-id-1 div.sk-container {/* jupyter's `normalize.less` sets `[hidden] { display: none; }` but bootstrap.min.css set `[hidden] { display: none !important; }` so we also need the `!important` here to be able to override the default hidden behavior on the sphinx rendered scikit-learn.org. See: https://github.com/scikit-learn/scikit-learn/issues/21755 */display: inline-block !important;position: relative;}#sk-container-id-1 div.sk-text-repr-fallback {display: none;}</style><div id=\"sk-container-id-1\" class=\"sk-top-container\"><div class=\"sk-text-repr-fallback\"><pre>Pipeline(steps=[(&#x27;preprocessor&#x27;,\n",
              "                 ColumnTransformer(transformers=[(&#x27;num&#x27;,\n",
              "                                                  Pipeline(steps=[(&#x27;imputer&#x27;,\n",
              "                                                                   SimpleImputer(strategy=&#x27;constant&#x27;)),\n",
              "                                                                  (&#x27;scaler&#x27;,\n",
              "                                                                   MinMaxScaler())]),\n",
              "                                                  [&#x27;age&#x27;, &#x27;bmi&#x27;, &#x27;children&#x27;]),\n",
              "                                                 (&#x27;cat&#x27;,\n",
              "                                                  Pipeline(steps=[(&#x27;imputer&#x27;,\n",
              "                                                                   SimpleImputer(strategy=&#x27;constant&#x27;)),\n",
              "                                                                  (&#x27;onehot&#x27;,\n",
              "                                                                   OneHotEncoder(handle_unknown=&#x27;ignore&#x27;))]),\n",
              "                                                  [&#x27;sex&#x27;, &#x27;smoker&#x27;,\n",
              "                                                   &#x27;region&#x27;])])),\n",
              "                (&#x27;model&#x27;,\n",
              "                 X...\n",
              "                              feature_types=None, gamma=None, gpu_id=None,\n",
              "                              grow_policy=None, importance_type=None,\n",
              "                              interaction_constraints=None, learning_rate=0.2,\n",
              "                              max_bin=None, max_cat_threshold=None,\n",
              "                              max_cat_to_onehot=None, max_delta_step=None,\n",
              "                              max_depth=3, max_leaves=None,\n",
              "                              min_child_weight=None, missing=nan,\n",
              "                              monotone_constraints=None, n_estimators=50,\n",
              "                              n_jobs=None, num_parallel_tree=None,\n",
              "                              predictor=None, random_state=None, ...))])</pre><b>In a Jupyter environment, please rerun this cell to show the HTML representation or trust the notebook. <br />On GitHub, the HTML representation is unable to render, please try loading this page with nbviewer.org.</b></div><div class=\"sk-container\" hidden><div class=\"sk-item sk-dashed-wrapped\"><div class=\"sk-label-container\"><div class=\"sk-label sk-toggleable\"><input class=\"sk-toggleable__control sk-hidden--visually\" id=\"sk-estimator-id-1\" type=\"checkbox\" ><label for=\"sk-estimator-id-1\" class=\"sk-toggleable__label sk-toggleable__label-arrow\">Pipeline</label><div class=\"sk-toggleable__content\"><pre>Pipeline(steps=[(&#x27;preprocessor&#x27;,\n",
              "                 ColumnTransformer(transformers=[(&#x27;num&#x27;,\n",
              "                                                  Pipeline(steps=[(&#x27;imputer&#x27;,\n",
              "                                                                   SimpleImputer(strategy=&#x27;constant&#x27;)),\n",
              "                                                                  (&#x27;scaler&#x27;,\n",
              "                                                                   MinMaxScaler())]),\n",
              "                                                  [&#x27;age&#x27;, &#x27;bmi&#x27;, &#x27;children&#x27;]),\n",
              "                                                 (&#x27;cat&#x27;,\n",
              "                                                  Pipeline(steps=[(&#x27;imputer&#x27;,\n",
              "                                                                   SimpleImputer(strategy=&#x27;constant&#x27;)),\n",
              "                                                                  (&#x27;onehot&#x27;,\n",
              "                                                                   OneHotEncoder(handle_unknown=&#x27;ignore&#x27;))]),\n",
              "                                                  [&#x27;sex&#x27;, &#x27;smoker&#x27;,\n",
              "                                                   &#x27;region&#x27;])])),\n",
              "                (&#x27;model&#x27;,\n",
              "                 X...\n",
              "                              feature_types=None, gamma=None, gpu_id=None,\n",
              "                              grow_policy=None, importance_type=None,\n",
              "                              interaction_constraints=None, learning_rate=0.2,\n",
              "                              max_bin=None, max_cat_threshold=None,\n",
              "                              max_cat_to_onehot=None, max_delta_step=None,\n",
              "                              max_depth=3, max_leaves=None,\n",
              "                              min_child_weight=None, missing=nan,\n",
              "                              monotone_constraints=None, n_estimators=50,\n",
              "                              n_jobs=None, num_parallel_tree=None,\n",
              "                              predictor=None, random_state=None, ...))])</pre></div></div></div><div class=\"sk-serial\"><div class=\"sk-item sk-dashed-wrapped\"><div class=\"sk-label-container\"><div class=\"sk-label sk-toggleable\"><input class=\"sk-toggleable__control sk-hidden--visually\" id=\"sk-estimator-id-2\" type=\"checkbox\" ><label for=\"sk-estimator-id-2\" class=\"sk-toggleable__label sk-toggleable__label-arrow\">preprocessor: ColumnTransformer</label><div class=\"sk-toggleable__content\"><pre>ColumnTransformer(transformers=[(&#x27;num&#x27;,\n",
              "                                 Pipeline(steps=[(&#x27;imputer&#x27;,\n",
              "                                                  SimpleImputer(strategy=&#x27;constant&#x27;)),\n",
              "                                                 (&#x27;scaler&#x27;, MinMaxScaler())]),\n",
              "                                 [&#x27;age&#x27;, &#x27;bmi&#x27;, &#x27;children&#x27;]),\n",
              "                                (&#x27;cat&#x27;,\n",
              "                                 Pipeline(steps=[(&#x27;imputer&#x27;,\n",
              "                                                  SimpleImputer(strategy=&#x27;constant&#x27;)),\n",
              "                                                 (&#x27;onehot&#x27;,\n",
              "                                                  OneHotEncoder(handle_unknown=&#x27;ignore&#x27;))]),\n",
              "                                 [&#x27;sex&#x27;, &#x27;smoker&#x27;, &#x27;region&#x27;])])</pre></div></div></div><div class=\"sk-parallel\"><div class=\"sk-parallel-item\"><div class=\"sk-item\"><div class=\"sk-label-container\"><div class=\"sk-label sk-toggleable\"><input class=\"sk-toggleable__control sk-hidden--visually\" id=\"sk-estimator-id-3\" type=\"checkbox\" ><label for=\"sk-estimator-id-3\" class=\"sk-toggleable__label sk-toggleable__label-arrow\">num</label><div class=\"sk-toggleable__content\"><pre>[&#x27;age&#x27;, &#x27;bmi&#x27;, &#x27;children&#x27;]</pre></div></div></div><div class=\"sk-serial\"><div class=\"sk-item\"><div class=\"sk-serial\"><div class=\"sk-item\"><div class=\"sk-estimator sk-toggleable\"><input class=\"sk-toggleable__control sk-hidden--visually\" id=\"sk-estimator-id-4\" type=\"checkbox\" ><label for=\"sk-estimator-id-4\" class=\"sk-toggleable__label sk-toggleable__label-arrow\">SimpleImputer</label><div class=\"sk-toggleable__content\"><pre>SimpleImputer(strategy=&#x27;constant&#x27;)</pre></div></div></div><div class=\"sk-item\"><div class=\"sk-estimator sk-toggleable\"><input class=\"sk-toggleable__control sk-hidden--visually\" id=\"sk-estimator-id-5\" type=\"checkbox\" ><label for=\"sk-estimator-id-5\" class=\"sk-toggleable__label sk-toggleable__label-arrow\">MinMaxScaler</label><div class=\"sk-toggleable__content\"><pre>MinMaxScaler()</pre></div></div></div></div></div></div></div></div><div class=\"sk-parallel-item\"><div class=\"sk-item\"><div class=\"sk-label-container\"><div class=\"sk-label sk-toggleable\"><input class=\"sk-toggleable__control sk-hidden--visually\" id=\"sk-estimator-id-6\" type=\"checkbox\" ><label for=\"sk-estimator-id-6\" class=\"sk-toggleable__label sk-toggleable__label-arrow\">cat</label><div class=\"sk-toggleable__content\"><pre>[&#x27;sex&#x27;, &#x27;smoker&#x27;, &#x27;region&#x27;]</pre></div></div></div><div class=\"sk-serial\"><div class=\"sk-item\"><div class=\"sk-serial\"><div class=\"sk-item\"><div class=\"sk-estimator sk-toggleable\"><input class=\"sk-toggleable__control sk-hidden--visually\" id=\"sk-estimator-id-7\" type=\"checkbox\" ><label for=\"sk-estimator-id-7\" class=\"sk-toggleable__label sk-toggleable__label-arrow\">SimpleImputer</label><div class=\"sk-toggleable__content\"><pre>SimpleImputer(strategy=&#x27;constant&#x27;)</pre></div></div></div><div class=\"sk-item\"><div class=\"sk-estimator sk-toggleable\"><input class=\"sk-toggleable__control sk-hidden--visually\" id=\"sk-estimator-id-8\" type=\"checkbox\" ><label for=\"sk-estimator-id-8\" class=\"sk-toggleable__label sk-toggleable__label-arrow\">OneHotEncoder</label><div class=\"sk-toggleable__content\"><pre>OneHotEncoder(handle_unknown=&#x27;ignore&#x27;)</pre></div></div></div></div></div></div></div></div></div></div><div class=\"sk-item\"><div class=\"sk-estimator sk-toggleable\"><input class=\"sk-toggleable__control sk-hidden--visually\" id=\"sk-estimator-id-9\" type=\"checkbox\" ><label for=\"sk-estimator-id-9\" class=\"sk-toggleable__label sk-toggleable__label-arrow\">XGBRegressor</label><div class=\"sk-toggleable__content\"><pre>XGBRegressor(base_score=None, booster=None, callbacks=None,\n",
              "             colsample_bylevel=None, colsample_bynode=None,\n",
              "             colsample_bytree=None, early_stopping_rounds=None,\n",
              "             enable_categorical=False, eval_metric=None, feature_types=None,\n",
              "             gamma=None, gpu_id=None, grow_policy=None, importance_type=None,\n",
              "             interaction_constraints=None, learning_rate=0.2, max_bin=None,\n",
              "             max_cat_threshold=None, max_cat_to_onehot=None,\n",
              "             max_delta_step=None, max_depth=3, max_leaves=None,\n",
              "             min_child_weight=None, missing=nan, monotone_constraints=None,\n",
              "             n_estimators=50, n_jobs=None, num_parallel_tree=None,\n",
              "             predictor=None, random_state=None, ...)</pre></div></div></div></div></div></div></div>"
            ]
          },
          "metadata": {},
          "execution_count": 33
        }
      ]
    },
    {
      "cell_type": "code",
      "source": [
        "y_pred =my_pipeline.predict(X_test)\n",
        "y_pred"
      ],
      "metadata": {
        "execution": {
          "iopub.status.busy": "2023-08-26T20:12:47.406309Z",
          "iopub.execute_input": "2023-08-26T20:12:47.407087Z",
          "iopub.status.idle": "2023-08-26T20:12:47.426135Z",
          "shell.execute_reply.started": "2023-08-26T20:12:47.407050Z",
          "shell.execute_reply": "2023-08-26T20:12:47.425124Z"
        },
        "trusted": true,
        "colab": {
          "base_uri": "https://localhost:8080/"
        },
        "id": "uRH7cFUtlVqd",
        "outputId": "4906bb2f-85f0-45b6-c9bb-a682caa0e610"
      },
      "execution_count": 34,
      "outputs": [
        {
          "output_type": "execute_result",
          "data": {
            "text/plain": [
              "array([44352.9   ,  6701.407 ,  7503.321 ,  4657.9375,  4919.874 ,\n",
              "       18120.64  ,  7373.2935, 35281.348 ,  3092.3633,  3625.0073,\n",
              "       14634.056 ,  3442.1248, 21524.844 , 14081.024 , 24081.168 ,\n",
              "        6520.6313,  9243.94  ,  7021.0176, 12335.833 , 13309.246 ,\n",
              "        9317.261 ,  4515.369 , 10313.906 , 42993.05  ,  8529.57  ,\n",
              "       16017.722 ,  3605.5303,  9832.234 ,  7126.0664, 14480.61  ,\n",
              "        3900.8892,  6636.0225,  8091.0264,  8334.993 ,  6866.2505,\n",
              "        9869.305 , 44704.4   , 21075.137 , 11896.05  ,  7555.6216,\n",
              "       11219.545 , 15193.71  , 12913.076 ,  8884.578 ,  7706.941 ,\n",
              "       23281.604 , 19407.266 ,  7145.446 , 47605.06  , 11510.023 ,\n",
              "        9446.155 ,  6155.74  , 10110.565 ,  7996.531 , 34254.676 ,\n",
              "        5536.48  , 38128.86  , 39019.707 , 40973.64  , 36479.742 ,\n",
              "        6069.593 , 14176.058 , 11398.3955,  3516.638 ,  5277.914 ,\n",
              "       10993.054 ,  3667.1523,  3191.198 ,  4114.4873,  2386.2393,\n",
              "       12366.85  , 42952.777 ,  6757.19  ,  2989.1716, 18313.799 ,\n",
              "       46069.516 , 12223.465 , 44062.742 ,  4363.9717, 21246.268 ,\n",
              "        8701.502 , 36128.58  , 44534.043 ,  8322.153 , 41780.62  ,\n",
              "        7139.272 , 15995.497 , 10708.383 ,  7353.198 ,  8443.16  ,\n",
              "        3328.211 , 16129.303 , 14609.701 ,  8846.113 ,  8637.92  ,\n",
              "       10421.097 ,  7616.316 ,  6938.249 , 41017.816 , 47602.86  ,\n",
              "       12377.759 ,  6052.5703,  9221.048 ,  6289.751 ,  7057.4033,\n",
              "        4046.631 ,  4107.7856,  6250.654 ,  2799.5176,  3608.5808,\n",
              "        4563.753 ,  6398.0312, 13002.317 ,  9306.277 ,  3342.2102,\n",
              "        4204.749 , 14594.885 ,  6349.0327,  2023.7836,  6623.29  ,\n",
              "        7247.474 , 12638.817 ,  9430.623 , 12369.6   , 15799.803 ,\n",
              "        2733.5872, 12961.674 , 17759.793 ,  2063.0574,  5693.295 ,\n",
              "       12466.449 , 18848.139 , 46848.656 , 11976.38  ,  5132.3027,\n",
              "        2129.8179,  3819.1072,  5350.9307, 14314.272 , 18789.58  ,\n",
              "       13753.604 ,  2474.429 ,  9042.371 , 24042.557 , 15284.812 ,\n",
              "        7211.9556,  7174.234 ,  2685.376 , 14169.75  ,  4582.4976,\n",
              "        5605.0503,  5078.7354, 14978.668 , 12361.656 ,  6813.3394,\n",
              "       23387.797 ,  3495.5396, 25036.26  , 43972.18  , 15992.066 ,\n",
              "        8783.154 , 41583.13  , 15018.176 , 24741.018 ,  3608.3967,\n",
              "        1011.8813, 25293.57  ,  4421.294 ,  3057.4814, 34574.836 ,\n",
              "        3044.8257,  3042.1648,  5593.4478,  7333.336 ,  6198.753 ,\n",
              "        3622.1458, 44287.35  , 14245.943 , 19936.855 , 14381.321 ,\n",
              "       27508.135 ,  2031.4094, 14049.647 ,  7189.467 ,  4155.871 ,\n",
              "        1693.8087, 15399.59  ,  2885.476 , 17962.684 , 16089.528 ,\n",
              "       40090.03  ,  6455.4185, 12951.185 , 12556.777 ,  7587.415 ,\n",
              "       12925.154 , 11111.991 ,  8955.85  ,  9886.507 ,  6067.4897,\n",
              "       18090.309 ,  7413.87  , 46408.02  , 14530.165 ,  3394.7854,\n",
              "       13127.903 , 10586.692 , 46488.082 , 10199.876 ,  7307.551 ,\n",
              "       16148.617 , 10405.194 ,  7865.218 ,  8219.142 , 46143.188 ,\n",
              "       41320.773 , 10705.053 ,  5777.834 ,  9198.883 , 47186.656 ,\n",
              "        3559.8994, 12144.73  ,  4453.538 , 12987.672 , 10675.269 ,\n",
              "        9515.23  ,  6148.8594,  3819.1072,  6738.8955,  2633.737 ,\n",
              "       13789.05  , 42452.55  , 44039.465 , 12190.075 ,  2514.676 ,\n",
              "       11047.6875,  5500.752 , 11479.517 , 11532.903 , 39683.09  ,\n",
              "        9556.458 , 16452.97  , 18422.914 ,  8075.053 , 12630.7705,\n",
              "        6723.527 ,  7143.341 ,  7865.218 ,  5949.9497,  2905.6638,\n",
              "        2478.2644, 18700.682 , 10358.751 , 14762.775 , 11197.527 ,\n",
              "       35331.043 ,  4653.83  , 10573.316 ,  5291.816 ,  6779.575 ,\n",
              "        3385.9075, 11364.919 ,  9132.435 ,  6911.666 ,  6078.5557,\n",
              "        7980.275 ,  7540.4854,  9389.634 ], dtype=float32)"
            ]
          },
          "metadata": {},
          "execution_count": 34
        }
      ]
    },
    {
      "cell_type": "code",
      "source": [
        "y_pred[:5]"
      ],
      "metadata": {
        "execution": {
          "iopub.status.busy": "2023-08-26T20:12:50.738099Z",
          "iopub.execute_input": "2023-08-26T20:12:50.738526Z",
          "iopub.status.idle": "2023-08-26T20:12:50.746123Z",
          "shell.execute_reply.started": "2023-08-26T20:12:50.738477Z",
          "shell.execute_reply": "2023-08-26T20:12:50.744773Z"
        },
        "trusted": true,
        "colab": {
          "base_uri": "https://localhost:8080/"
        },
        "id": "uUu-JRxElVqd",
        "outputId": "a6ec179c-0659-46be-8194-0b6c67d6b110"
      },
      "execution_count": 35,
      "outputs": [
        {
          "output_type": "execute_result",
          "data": {
            "text/plain": [
              "array([44352.9   ,  6701.407 ,  7503.321 ,  4657.9375,  4919.874 ],\n",
              "      dtype=float32)"
            ]
          },
          "metadata": {},
          "execution_count": 35
        }
      ]
    },
    {
      "cell_type": "code",
      "source": [
        "y_test[:5]"
      ],
      "metadata": {
        "execution": {
          "iopub.status.busy": "2023-08-26T20:12:52.808662Z",
          "iopub.execute_input": "2023-08-26T20:12:52.809659Z",
          "iopub.status.idle": "2023-08-26T20:12:52.817495Z",
          "shell.execute_reply.started": "2023-08-26T20:12:52.809622Z",
          "shell.execute_reply": "2023-08-26T20:12:52.816237Z"
        },
        "trusted": true,
        "colab": {
          "base_uri": "https://localhost:8080/"
        },
        "id": "HsUh1jeNlVqd",
        "outputId": "86e2c5a1-ec4e-43bc-8597-f3b4ee40129c"
      },
      "execution_count": 36,
      "outputs": [
        {
          "output_type": "execute_result",
          "data": {
            "text/plain": [
              "629     42983.45850\n",
              "408      6652.52880\n",
              "687      5438.74910\n",
              "1016     2709.24395\n",
              "693      2352.96845\n",
              "Name: charges, dtype: float64"
            ]
          },
          "metadata": {},
          "execution_count": 36
        }
      ]
    },
    {
      "cell_type": "code",
      "source": [
        "from sklearn.metrics import mean_absolute_error\n",
        "mean_absolute_error(y_test,y_pred)"
      ],
      "metadata": {
        "execution": {
          "iopub.status.busy": "2023-08-26T20:12:55.977382Z",
          "iopub.execute_input": "2023-08-26T20:12:55.977809Z",
          "iopub.status.idle": "2023-08-26T20:12:55.986882Z",
          "shell.execute_reply.started": "2023-08-26T20:12:55.977776Z",
          "shell.execute_reply": "2023-08-26T20:12:55.985743Z"
        },
        "trusted": true,
        "colab": {
          "base_uri": "https://localhost:8080/"
        },
        "id": "uBuzD3JblVqd",
        "outputId": "83d5b2d3-7f35-4bc4-d1d5-23741a42172d"
      },
      "execution_count": 37,
      "outputs": [
        {
          "output_type": "execute_result",
          "data": {
            "text/plain": [
              "2082.772476013366"
            ]
          },
          "metadata": {},
          "execution_count": 37
        }
      ]
    },
    {
      "cell_type": "code",
      "source": [
        "from sklearn.metrics import r2_score\n",
        "\n",
        "# r2_score\n",
        "r2_score(y_test, y_pred)"
      ],
      "metadata": {
        "execution": {
          "iopub.status.busy": "2023-08-26T20:12:59.180174Z",
          "iopub.execute_input": "2023-08-26T20:12:59.181327Z",
          "iopub.status.idle": "2023-08-26T20:12:59.189035Z",
          "shell.execute_reply.started": "2023-08-26T20:12:59.181288Z",
          "shell.execute_reply": "2023-08-26T20:12:59.187814Z"
        },
        "trusted": true,
        "colab": {
          "base_uri": "https://localhost:8080/"
        },
        "id": "zK4qg9QClVqd",
        "outputId": "4e6fa7ca-059c-4f76-bb59-bb2460642ee8"
      },
      "execution_count": 38,
      "outputs": [
        {
          "output_type": "execute_result",
          "data": {
            "text/plain": [
              "0.9096170285820727"
            ]
          },
          "metadata": {},
          "execution_count": 38
        }
      ]
    },
    {
      "cell_type": "code",
      "source": [
        "from sklearn.linear_model import LinearRegression\n",
        "from sklearn.linear_model import LogisticRegression\n",
        "from sklearn.linear_model import Ridge\n",
        "from sklearn.linear_model import Lasso\n",
        "from sklearn.linear_model import ElasticNet\n",
        "import lightgbm as lgb\n",
        "\n",
        "\n",
        "def model_selection(model):\n",
        "    # Preprocessing for numerical data\n",
        "    numerical_transformer = Pipeline(steps=[\n",
        "        ('imputer', SimpleImputer(strategy='constant')),\n",
        "        ('scaler', MinMaxScaler())\n",
        "    ])\n",
        "\n",
        "    # Preprocessing for categorical data\n",
        "    categorical_transformer = Pipeline(steps = [\n",
        "        ('imputer',SimpleImputer(strategy='constant')),\n",
        "        ('onehot',OneHotEncoder(handle_unknown='ignore'))\n",
        "    ])\n",
        "\n",
        "    # Bundle preprocessing for numerical and categorical data\n",
        "    preprocessor = ColumnTransformer(\n",
        "        transformers=[\n",
        "            ('num', numerical_transformer, numerical_cols),\n",
        "            ('cat', categorical_transformer, categorical_cols)\n",
        "        ])\n",
        "\n",
        "    # Define model\n",
        "    model = model\n",
        "\n",
        "    # Bundle preprocessing and modeling code in a pipeline\n",
        "    my_pipeline = Pipeline(steps=[('preprocessor', preprocessor),\n",
        "                                  ('model', model)\n",
        "                                 ])\n",
        "\n",
        "    # Preprocessing of training data, fit model\n",
        "    my_pipeline.fit(X_train, y_train)\n",
        "\n",
        "    #predict\n",
        "    y_pred =my_pipeline.predict(X_test)\n",
        "\n",
        "    mean_error = mean_absolute_error(y_test,y_pred)\n",
        "    r2 = r2_score(y_test, y_pred)\n",
        "\n",
        "    return mean_error, r2\n",
        "\n",
        ""
      ],
      "metadata": {
        "execution": {
          "iopub.status.busy": "2023-08-26T20:26:22.344023Z",
          "iopub.execute_input": "2023-08-26T20:26:22.345058Z",
          "iopub.status.idle": "2023-08-26T20:26:23.632275Z",
          "shell.execute_reply.started": "2023-08-26T20:26:22.345013Z",
          "shell.execute_reply": "2023-08-26T20:26:23.631103Z"
        },
        "trusted": true,
        "id": "pRwC-ILwlVqd"
      },
      "execution_count": 39,
      "outputs": []
    },
    {
      "cell_type": "code",
      "source": [
        "print(\"(mean absolute error, r2_score)\",model_selection(model = LinearRegression()))"
      ],
      "metadata": {
        "execution": {
          "iopub.status.busy": "2023-08-26T20:23:55.617179Z",
          "iopub.execute_input": "2023-08-26T20:23:55.617588Z",
          "iopub.status.idle": "2023-08-26T20:23:55.660034Z",
          "shell.execute_reply.started": "2023-08-26T20:23:55.617555Z",
          "shell.execute_reply": "2023-08-26T20:23:55.658581Z"
        },
        "trusted": true,
        "colab": {
          "base_uri": "https://localhost:8080/"
        },
        "id": "G_h0xfX_lVqe",
        "outputId": "f9019b32-8ca4-4d12-ea2a-77ca9a13b483"
      },
      "execution_count": 40,
      "outputs": [
        {
          "output_type": "stream",
          "name": "stdout",
          "text": [
            "(mean absolute error, r2_score) (3943.145113003196, 0.805494005723457)\n"
          ]
        }
      ]
    },
    {
      "cell_type": "code",
      "source": [
        "print(\"(mean absolute error, r2_score)\",model_selection(model = Ridge()))"
      ],
      "metadata": {
        "execution": {
          "iopub.status.busy": "2023-08-26T20:24:17.000303Z",
          "iopub.execute_input": "2023-08-26T20:24:17.000733Z",
          "iopub.status.idle": "2023-08-26T20:24:17.039714Z",
          "shell.execute_reply.started": "2023-08-26T20:24:17.000701Z",
          "shell.execute_reply": "2023-08-26T20:24:17.038173Z"
        },
        "trusted": true,
        "colab": {
          "base_uri": "https://localhost:8080/"
        },
        "id": "D1-s7Hc3lVqe",
        "outputId": "e8f78b6f-571c-4745-b151-b30f93044175"
      },
      "execution_count": 41,
      "outputs": [
        {
          "output_type": "stream",
          "name": "stdout",
          "text": [
            "(mean absolute error, r2_score) (3930.369468960726, 0.805067567229702)\n"
          ]
        }
      ]
    },
    {
      "cell_type": "code",
      "source": [
        "print(\"(mean absolute error, r2_score)\",model_selection(model = Lasso()))"
      ],
      "metadata": {
        "execution": {
          "iopub.status.busy": "2023-08-26T20:24:30.213597Z",
          "iopub.execute_input": "2023-08-26T20:24:30.213996Z",
          "iopub.status.idle": "2023-08-26T20:24:30.262320Z",
          "shell.execute_reply.started": "2023-08-26T20:24:30.213964Z",
          "shell.execute_reply": "2023-08-26T20:24:30.260453Z"
        },
        "trusted": true,
        "colab": {
          "base_uri": "https://localhost:8080/"
        },
        "id": "qRCUAKo5lVqe",
        "outputId": "cf742644-5e5e-493f-fa1a-684f5f7437d8"
      },
      "execution_count": 42,
      "outputs": [
        {
          "output_type": "stream",
          "name": "stdout",
          "text": [
            "(mean absolute error, r2_score) (3941.705929713903, 0.8054772498536924)\n"
          ]
        }
      ]
    },
    {
      "cell_type": "code",
      "source": [
        "print(\"(mean absolute error, r2_score)\",model_selection(model = ElasticNet()))"
      ],
      "metadata": {
        "execution": {
          "iopub.status.busy": "2023-08-26T20:24:39.776810Z",
          "iopub.execute_input": "2023-08-26T20:24:39.777214Z",
          "iopub.status.idle": "2023-08-26T20:24:39.830144Z",
          "shell.execute_reply.started": "2023-08-26T20:24:39.777182Z",
          "shell.execute_reply": "2023-08-26T20:24:39.828421Z"
        },
        "trusted": true,
        "colab": {
          "base_uri": "https://localhost:8080/"
        },
        "id": "9bo62XMwlVqe",
        "outputId": "6ed723c2-b2d2-4a04-8136-280461e793b7"
      },
      "execution_count": 43,
      "outputs": [
        {
          "output_type": "stream",
          "name": "stdout",
          "text": [
            "(mean absolute error, r2_score) (7089.519182901548, 0.42781474164123)\n"
          ]
        }
      ]
    },
    {
      "cell_type": "code",
      "source": [
        "print(\"(mean absolute error, r2_score)\",model_selection(model = lgb.LGBMRegressor(metric='mae')))"
      ],
      "metadata": {
        "execution": {
          "iopub.status.busy": "2023-08-26T20:26:46.027310Z",
          "iopub.execute_input": "2023-08-26T20:26:46.028561Z",
          "iopub.status.idle": "2023-08-26T20:26:47.498284Z",
          "shell.execute_reply.started": "2023-08-26T20:26:46.028517Z",
          "shell.execute_reply": "2023-08-26T20:26:47.497065Z"
        },
        "trusted": true,
        "colab": {
          "base_uri": "https://localhost:8080/"
        },
        "id": "-IpGXRzdlVqf",
        "outputId": "db554499-8dc0-4495-d999-8b1a2f1e04f3"
      },
      "execution_count": 44,
      "outputs": [
        {
          "output_type": "stream",
          "name": "stdout",
          "text": [
            "[LightGBM] [Warning] Auto-choosing row-wise multi-threading, the overhead of testing was 0.000204 seconds.\n",
            "You can set `force_row_wise=true` to remove the overhead.\n",
            "And if memory is not enough, you can set `force_col_wise=true`.\n",
            "[LightGBM] [Info] Total Bins 324\n",
            "[LightGBM] [Info] Number of data points in the train set: 1070, number of used features: 11\n",
            "[LightGBM] [Info] Start training from score 13293.734444\n",
            "(mean absolute error, r2_score) (2448.1218298676913, 0.8946309416225647)\n"
          ]
        }
      ]
    },
    {
      "cell_type": "markdown",
      "source": [
        "## Best model is XGBooatRegressor"
      ],
      "metadata": {
        "id": "IBeSsv14mJ8o"
      }
    }
  ]
}